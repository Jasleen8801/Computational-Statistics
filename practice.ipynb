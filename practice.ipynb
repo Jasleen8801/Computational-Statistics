{
  "nbformat": 4,
  "nbformat_minor": 0,
  "metadata": {
    "colab": {
      "provenance": [],
      "authorship_tag": "ABX9TyN8QMOm0Of70U5HTdSLB4YF",
      "include_colab_link": true
    },
    "kernelspec": {
      "name": "python3",
      "display_name": "Python 3"
    },
    "language_info": {
      "name": "python"
    }
  },
  "cells": [
    {
      "cell_type": "markdown",
      "metadata": {
        "id": "view-in-github",
        "colab_type": "text"
      },
      "source": [
        "<a href=\"https://colab.research.google.com/github/Jasleen8801/Computational-Statistics/blob/main/practice.ipynb\" target=\"_parent\"><img src=\"https://colab.research.google.com/assets/colab-badge.svg\" alt=\"Open In Colab\"/></a>"
      ]
    },
    {
      "cell_type": "markdown",
      "source": [
        "### Datasets used in this program:\n",
        "\n",
        "\n"
      ],
      "metadata": {
        "id": "oiAaif3MRYPg"
      }
    },
    {
      "cell_type": "markdown",
      "source": [
        "1. **Salary_Data.csv** - for SLR\n",
        "2. **50_Startups.csv** - for MLR\n",
        "3. **gray_img.jpg** - for Noise Matrix\n",
        "4. **kmeans.xlsx** - for kmeans clustering"
      ],
      "metadata": {
        "id": "1eXjjaE9Rgwe"
      }
    },
    {
      "cell_type": "markdown",
      "source": [
        "# Simple Linear Regression - Manually with simple dataset"
      ],
      "metadata": {
        "id": "fjSohmTrGVLw"
      }
    },
    {
      "cell_type": "code",
      "execution_count": 12,
      "metadata": {
        "colab": {
          "base_uri": "https://localhost:8080/",
          "height": 364
        },
        "id": "DIHQfuf6Fc4r",
        "outputId": "7991ccfe-817d-4e13-986b-12f264fff67a"
      },
      "outputs": [
        {
          "output_type": "stream",
          "name": "stdout",
          "text": [
            "The slope is 0.7376623376623376\n",
            "The intercept is 0.03116883116883118\n",
            "The plot is as follows: \n",
            "\n"
          ]
        },
        {
          "output_type": "display_data",
          "data": {
            "text/plain": [
              "<Figure size 432x288 with 1 Axes>"
            ],
            "image/png": "[encoded data removed]"
          },
          "metadata": {
            "needs_background": "light"
          }
        }
      ],
      "source": [
        "# Imports\n",
        "import numpy as np\n",
        "import pandas as pd\n",
        "import matplotlib.pyplot as plt\n",
        "\n",
        "# User defined functions\n",
        "def mean(a):\n",
        "    '''Returns mean of the given values'''\n",
        "    return (sum(a)/len(a))\n",
        "\n",
        "def slope_intercept(x,y):\n",
        "    '''Returns the model parameters - slope and intercept'''\n",
        "    x_mean = mean(x)\n",
        "    y_mean = mean(y)\n",
        "    slope = (sum((x-x_mean) * (y-y_mean))) / (sum((x - x_mean)**2))\n",
        "    intercept = y_mean - x_mean * slope\n",
        "    return slope,intercept\n",
        "\n",
        "def predict(x,y):\n",
        "    '''Returns the value of predicted y'''\n",
        "    b = slope_intercept(x,y)\n",
        "    y_pred = b[1] + b[0]*x\n",
        "    return y_pred\n",
        "\n",
        "def plot(x,y):\n",
        "    '''Returns the scatter plot for given data'''\n",
        "    plt.scatter(x,y,color='red')\n",
        "    y_pred = predict(x,y)\n",
        "    plt.plot(x,y_pred,color='blue')\n",
        "    plt.title(\"Simple Linear Regression\")\n",
        "    plt.xlabel(\"X-values\")\n",
        "    plt.ylabel(\"Y-values\")\n",
        "    plt.show()\n",
        "\n",
        "# Value inputs\n",
        "X = np.array([0,1,2,3,4,5,6,7,8,9])\n",
        "y = np.array([3,4,6,2,7,18,23,12,13,16])\n",
        "\n",
        "# Data Preprocessing - Min-max Normalization\n",
        "X = (X - X.min()) / (X.max() - X.min())\n",
        "y = (y - y.min()) / (y.max() - y.min())\n",
        "\n",
        "# Fitting in the model\n",
        "slope1,intercept1 = slope_intercept(X,y)\n",
        "print(f'''The slope is {slope1}\n",
        "The intercept is {intercept1}\n",
        "The plot is as follows: \\n''')\n",
        "\n",
        "plot(X,y)\n"
      ]
    },
    {
      "cell_type": "markdown",
      "source": [
        "# Simple Linear Regression - Manually with kaggle dataset"
      ],
      "metadata": {
        "id": "UWZgXie8GaSG"
      }
    },
    {
      "cell_type": "code",
      "source": [
        "# Imports\n",
        "import numpy as np\n",
        "import pandas as pd\n",
        "import matplotlib.pyplot as plt\n",
        "\n",
        "# User defined functions\n",
        "def mean(a):\n",
        "    '''Returns mean of the given values'''\n",
        "    return (sum(a)/len(a))\n",
        "\n",
        "def slope_intercept(x,y):\n",
        "    '''Returns the model parameters - slope and intercept'''\n",
        "    x_mean = mean(x)\n",
        "    y_mean = mean(y)\n",
        "    slope = (sum((x-x_mean) * (y-y_mean))) / (sum((x - x_mean)**2))\n",
        "    intercept = y_mean - x_mean * slope\n",
        "    return slope,intercept\n",
        "\n",
        "def predict(x,y):\n",
        "    '''Returns the value of predicted y'''\n",
        "    b = slope_intercept(x,y)\n",
        "    y_pred = b[1] + b[0]*x\n",
        "    return y_pred\n",
        "\n",
        "def plot(x,y):\n",
        "    '''Returns the scatter plot for given data'''\n",
        "    plt.scatter(x,y,color='red')\n",
        "    y_pred = predict(x,y)\n",
        "    plt.plot(x,y_pred,color='blue')\n",
        "    plt.title(\"Simple Linear Regression\")\n",
        "    plt.xlabel(\"X-values\")\n",
        "    plt.ylabel(\"Y-values\")\n",
        "    plt.show()\n",
        "\n",
        "# Value inputs\n",
        "data = pd.read_csv(\"Salary_Data.csv\")\n",
        "X = np.array(data['YearsExperience'])\n",
        "y = np.array(data['Salary'])\n",
        "\n",
        "# Data Preprocessing - Min-max Normalization\n",
        "X = (X - X.min()) / (X.max() - X.min())\n",
        "y = (y - y.min()) / (y.max() - y.min())\n",
        "\n",
        "# Fitting in the model\n",
        "slope1,intercept1 = slope_intercept(X,y)\n",
        "print(f'''The slope is {slope1}\n",
        "The intercept is {intercept1}\n",
        "The plot is as follows: \\n''')\n",
        "\n",
        "plot(X,y)"
      ],
      "metadata": {
        "colab": {
          "base_uri": "https://localhost:8080/",
          "height": 364
        },
        "id": "6vrf0eGIGZPl",
        "outputId": "e99e02f6-1061-4340-a88d-b46c4d8c6303"
      },
      "execution_count": 13,
      "outputs": [
        {
          "output_type": "stream",
          "name": "stdout",
          "text": [
            "The slope is 1.049251663379137\n",
            "The intercept is -0.018235781333932555\n",
            "The plot is as follows: \n",
            "\n"
          ]
        },
        {
          "output_type": "display_data",
          "data": {
            "text/plain": [
              "<Figure size 432x288 with 1 Axes>"
            ],
            "image/png": "[encoded data removed]"
          },
          "metadata": {
            "needs_background": "light"
          }
        }
      ]
    },
    {
      "cell_type": "markdown",
      "source": [
        "# Simple Linear Regression - Inbuilt Module with simple dataset"
      ],
      "metadata": {
        "id": "BYS_7cKSJtTk"
      }
    },
    {
      "cell_type": "code",
      "source": [
        "# Imports\n",
        "from sklearn.linear_model import LinearRegression\n",
        "import pandas as pd\n",
        "\n",
        "# User defined functions\n",
        "\n",
        "def plot(x,y):\n",
        "    '''Returns the scatter plot for given data'''\n",
        "    plt.scatter(x,y,color='red')\n",
        "    y_pred = predict(x,y)\n",
        "    plt.plot(x,y_pred,color='blue')\n",
        "    plt.title(\"Simple Linear Regression\")\n",
        "    plt.xlabel(\"X-values\")\n",
        "    plt.ylabel(\"Y-values\")\n",
        "    plt.show()\n",
        "\n",
        "# Value inputs\n",
        "X = np.array([0,1,2,3,4,5,6,7,8,9])\n",
        "y = np.array([3,4,6,2,7,18,23,12,13,16])\n",
        "\n",
        "# Data Preprocessing - Min-max Normalization\n",
        "X = (X - X.min()) / (X.max() - X.min())\n",
        "y = (y - y.min()) / (y.max() - y.min())\n",
        "\n",
        "# Fitting in the model\n",
        "model = LinearRegression()\n",
        "model.fit(X.reshape(-1,1),y)\n",
        "print(f'''The slope is {model.coef_}\n",
        "The intercept is {model.intercept_}\n",
        "The plot is as follows:''')\n",
        "\n",
        "plot(X,y)"
      ],
      "metadata": {
        "colab": {
          "base_uri": "https://localhost:8080/",
          "height": 347
        },
        "id": "0dBugF4xJ5TM",
        "outputId": "d7dd5f23-5593-41f7-a2ca-7a9976797601"
      },
      "execution_count": 14,
      "outputs": [
        {
          "output_type": "stream",
          "name": "stdout",
          "text": [
            "The slope is [0.73766234]\n",
            "The intercept is 0.031168831168831124\n",
            "The plot is as follows:\n"
          ]
        },
        {
          "output_type": "display_data",
          "data": {
            "text/plain": [
              "<Figure size 432x288 with 1 Axes>"
            ],
            "image/png": "[encoded data removed]"
          },
          "metadata": {
            "needs_background": "light"
          }
        }
      ]
    },
    {
      "cell_type": "markdown",
      "source": [
        "# Simple Linear Regression - Inbuilt Module with kaggle dataset"
      ],
      "metadata": {
        "id": "f3FfvBFSM5As"
      }
    },
    {
      "cell_type": "code",
      "source": [
        "# Simple Linear Regression\n",
        "\n",
        "# Imports\n",
        "from sklearn.linear_model import LinearRegression\n",
        "import pandas as pd\n",
        "\n",
        "# User defined functions\n",
        "def plot(x,y):\n",
        "    '''Returns the scatter plot for given data'''\n",
        "    plt.scatter(x,y,color='red')\n",
        "    y_pred = predict(x,y)\n",
        "    plt.plot(x,y_pred,color='blue')\n",
        "    plt.title(\"Simple Linear Regression\")\n",
        "    plt.xlabel(\"X-values\")\n",
        "    plt.ylabel(\"Y-values\")\n",
        "    plt.show()\n",
        "\n",
        "# Value inputs\n",
        "data = pd.read_csv(\"Salary_Data.csv\")\n",
        "X = np.array(data['YearsExperience'])\n",
        "y = np.array(data['Salary'])\n",
        "\n",
        "# Data Preprocessing - Min-max Normalization\n",
        "X = (X - X.min()) / (X.max() - X.min())\n",
        "y = (y - y.min()) / (y.max() - y.min())\n",
        "\n",
        "# Fitting in the model\n",
        "model = LinearRegression()\n",
        "model.fit(X.reshape(-1,1),y)\n",
        "print(f'''The slope is {model.coef_}\n",
        "The intercept is {model.intercept_}\n",
        "The plot is as follows: \\n''')\n",
        "\n",
        "plot(X,y)"
      ],
      "metadata": {
        "colab": {
          "base_uri": "https://localhost:8080/",
          "height": 364
        },
        "id": "sTmOT7-nM7PP",
        "outputId": "a9cea9e3-7ad9-48c1-9751-52553f636c9e"
      },
      "execution_count": 15,
      "outputs": [
        {
          "output_type": "stream",
          "name": "stdout",
          "text": [
            "The slope is [1.04925166]\n",
            "The intercept is -0.0182357813339325\n",
            "The plot is as follows: \n",
            "\n"
          ]
        },
        {
          "output_type": "display_data",
          "data": {
            "text/plain": [
              "<Figure size 432x288 with 1 Axes>"
            ],
            "image/png": "[encoded data removed]"
          },
          "metadata": {
            "needs_background": "light"
          }
        }
      ]
    },
    {
      "cell_type": "markdown",
      "source": [
        "# Model Parameters - VIF - For simple dataset"
      ],
      "metadata": {
        "id": "OrdVA7RgNFKK"
      }
    },
    {
      "cell_type": "code",
      "source": [
        "# Imports\n",
        "import numpy as np\n",
        "import pandas as pd\n",
        "import matplotlib.pyplot as plt\n",
        "\n",
        "# User defined functions\n",
        "def mean(a):\n",
        "    '''Returns mean to the given values'''\n",
        "    return(sum(a)/len(a))\n",
        "\n",
        "def slope_intercept(x,y):\n",
        "    '''Returns the model parameters - slope and intercept'''\n",
        "    x_mean = mean(x)\n",
        "    y_mean = mean(y)\n",
        "    slope = (sum((x-x_mean) * (y-y_mean))) / (sum((x - x_mean)**2))\n",
        "    intercept = y_mean - x_mean * slope\n",
        "    return slope,intercept\n",
        "\n",
        "def predict(x,y):\n",
        "    '''Returns the value of predicted y'''\n",
        "    b = slope_intercept(x,y)\n",
        "    y_pred = b[1] + b[0]*x\n",
        "    return y_pred\n",
        "\n",
        "def SST(y):\n",
        "    '''Returns the value of SST = (y - y_mean)^2 '''\n",
        "    y_mean = mean(y)\n",
        "    SST_val = sum((y - y_mean)**2)\n",
        "    return SST_val\n",
        "\n",
        "def SSE(x,y):\n",
        "    '''Returns the value of SSE = (y_pred - y)^2 '''\n",
        "    y_pred = predict(x,y)\n",
        "    SSE_val = sum((y_pred - y)**2)\n",
        "    return SSE_val\n",
        "\n",
        "def SSR(x,y):\n",
        "    '''Returns the value of SSR = (y_pred - y_mean)^2 '''\n",
        "    y_pred = predict(x,y)\n",
        "    y_mean = mean(y)\n",
        "    SSR_val = sum((y_pred - y_mean)**2)\n",
        "    return SSR_val\n",
        "\n",
        "def R(x,y):\n",
        "    '''Returns the value of coefficent of determination'''\n",
        "    SSR_val = SSR(x,y)\n",
        "    SST_val = SST(y)\n",
        "    r_val = 1 - (SSR_val / SST_val)\n",
        "    return r_val\n",
        "\n",
        "def VIF(x,y):\n",
        "    '''Returns the VIF value'''\n",
        "    r = R(x,y)\n",
        "    VIF_val = 1 / (1 - r)\n",
        "    return VIF_val\n",
        "\n",
        "# Value inputs\n",
        "X = np.array([0,1,2,3,4,5,6,7,8,9])\n",
        "y = np.array([3,4,6,2,7,18,23,12,13,16])\n",
        "\n",
        "# Data Preprocessing - Min-max Normalization\n",
        "X = (X - X.min()) / (X.max() - X.min())\n",
        "y = (y - y.min()) / (y.max() - y.min())\n",
        "\n",
        "# Output\n",
        "print(f'''MODEL PARAMETERS\n",
        "        1. SSR = {SSR(X,y)}\n",
        "        2. SST = {SST(y)}\n",
        "        3. SSE = {SSE(X,y)}''')\n",
        "print(f'The value of coefficient of determination = {R(X,y)}')\n",
        "print(f'The value of VIF is {VIF(X,y)}')"
      ],
      "metadata": {
        "colab": {
          "base_uri": "https://localhost:8080/"
        },
        "id": "M6Sq8cPGNJ9v",
        "outputId": "90c851fd-8031-4586-bc31-278667b9412d"
      },
      "execution_count": 16,
      "outputs": [
        {
          "output_type": "stream",
          "name": "stdout",
          "text": [
            "MODEL PARAMETERS\n",
            "        1. SSR = 0.5542224970796397\n",
            "        2. SST = 1.0303854875283447\n",
            "        3. SSE = 0.47616299044870475\n",
            "The value of coefficient of determination = 0.4621212121212124\n",
            "The value of VIF is 1.8591549295774656\n"
          ]
        }
      ]
    },
    {
      "cell_type": "markdown",
      "source": [
        "# Model Parameters - VIF - For kaggle dataset"
      ],
      "metadata": {
        "id": "kmgLzeYmQSQ0"
      }
    },
    {
      "cell_type": "code",
      "source": [
        "# Imports\n",
        "import numpy as np\n",
        "import pandas as pd\n",
        "import matplotlib.pyplot as plt\n",
        "\n",
        "# User defined functions\n",
        "def mean(a):\n",
        "    '''Returns mean to the given values'''\n",
        "    return(sum(a)/len(a))\n",
        "\n",
        "def slope_intercept(x,y):\n",
        "    '''Returns the model parameters - slope and intercept'''\n",
        "    x_mean = mean(x)\n",
        "    y_mean = mean(y)\n",
        "    slope = (sum((x-x_mean) * (y-y_mean))) / (sum((x - x_mean)**2))\n",
        "    intercept = y_mean - x_mean * slope\n",
        "    return slope,intercept\n",
        "\n",
        "def predict(x,y):\n",
        "    '''Returns the value of predicted y'''\n",
        "    b = slope_intercept(x,y)\n",
        "    y_pred = b[1] + b[0]*x\n",
        "    return y_pred\n",
        "\n",
        "def SST(y):\n",
        "    '''Returns the value of SST = (y - y_mean)^2 '''\n",
        "    y_mean = mean(y)\n",
        "    SST_val = sum((y - y_mean)**2)\n",
        "    return SST_val\n",
        "\n",
        "def SSE(x,y):\n",
        "    '''Returns the value of SSE = (y_pred - y)^2 '''\n",
        "    y_pred = predict(x,y)\n",
        "    SSE_val = sum((y_pred - y)**2)\n",
        "    return SSE_val\n",
        "\n",
        "def SSR(x,y):\n",
        "    '''Returns the value of SSR = (y_pred - y_mean)^2 '''\n",
        "    y_pred = predict(x,y)\n",
        "    y_mean = mean(y)\n",
        "    SSR_val = sum((y_pred - y_mean)**2)\n",
        "    return SSR_val\n",
        "\n",
        "def R(x,y):\n",
        "    '''Returns the value of coefficent of determination'''\n",
        "    SSR_val = SSR(x,y)\n",
        "    SST_val = SST(y)\n",
        "    r_val = 1 - (SSR_val / SST_val)\n",
        "    return r_val\n",
        "\n",
        "def VIF(x,y):\n",
        "    '''Returns the VIF value'''\n",
        "    r = R(x,y)\n",
        "    VIF_val = 1 / (1 - r)\n",
        "    return VIF_val\n",
        "\n",
        "# Value inputs\n",
        "data = pd.read_csv(\"Salary_Data.csv\")\n",
        "X = np.array(data['YearsExperience'])\n",
        "y = np.array(data['Salary'])\n",
        "\n",
        "# Data Preprocessing - Min-max Normalization\n",
        "X = (X - X.min()) / (X.max() - X.min())\n",
        "y = (y - y.min()) / (y.max() - y.min())\n",
        "\n",
        "# Output\n",
        "print(f'''MODEL PARAMETERS\n",
        "        1. SSR = {SSR(X,y)}\n",
        "        2. SST = {SST(y)}\n",
        "        3. SSE = {SSE(X,y)}''')\n",
        "print(f'The value of coefficient of determination = {R(X,y)}')\n",
        "print(f'The value of VIF is {VIF(X,y)}')\n"
      ],
      "metadata": {
        "colab": {
          "base_uri": "https://localhost:8080/"
        },
        "id": "WHBSRrePQXy8",
        "outputId": "c95aa118-2363-463d-e693-24b679a52de3"
      },
      "execution_count": 17,
      "outputs": [
        {
          "output_type": "stream",
          "name": "stdout",
          "text": [
            "MODEL PARAMETERS\n",
            "        1. SSR = 2.9099945452843707\n",
            "        2. SST = 3.040884351736932\n",
            "        3. SSE = 0.1308898064525621\n",
            "The value of coefficient of determination = 0.04304333585649123\n",
            "The value of VIF is 1.0449793992448086\n"
          ]
        }
      ]
    },
    {
      "cell_type": "markdown",
      "source": [
        "# Multiple Linear Regression - Manually for kaggle dataset "
      ],
      "metadata": {
        "id": "T8z3qtB4QiqS"
      }
    },
    {
      "cell_type": "code",
      "source": [
        "# Imports\n",
        "import numpy as np\n",
        "import pandas as pd\n",
        "import matplotlib.pyplot as plt\n",
        "\n",
        "# User defined functions\n",
        "def mean(a):\n",
        "    '''Returns mean of given values'''\n",
        "    return (sum(a)/len(a))\n",
        "\n",
        "def slope_intercept(x1,x2,y):\n",
        "    '''Returns b0, b1 and b2 for given values'''\n",
        "    sumofx2square = sum(x2*x2) - (sum(x2)*sum(x2))/len(x2)\n",
        "    sumofx1square = sum(x1*x1) - (sum(x1)*sum(x1))/len(x1)\n",
        "    sumofx1y = sum(x1*y) - (sum(x1*y))/len(x1)\n",
        "    sumofx2y = sum(x2*y) - (sum(x2*y))/len(x2)\n",
        "    sumofx1x2 = sum(x1*x2) - (sum(x1)*sum(x2))/len(x2)\n",
        "\n",
        "    b1 = (((sumofx2square)*(sumofx1y)) - ((sumofx1x2)*(sumofx2y)))/(((sumofx1square)*(sumofx2square)) - (sumofx1x2)*(sumofx1x2))\n",
        "    b2 = (((sumofx1square)*(sumofx2y)) - ((sumofx1x2)*(sumofx1y)))/(((sumofx1square)*(sumofx2square)) - (sumofx1x2)*(sumofx1x2))\n",
        "    b0 = mean(y) - b1 * mean(x1) - b2 * mean(x2)\n",
        "\n",
        "    return b0,b1,b2\n",
        "\n",
        "# Value inputs\n",
        "data = pd.read_csv(\"50_Startups.csv\")\n",
        "X1 = data.iloc[:,0].values\n",
        "X2 = data.iloc[:,1].values\n",
        "y = data.iloc[:,-1].values\n",
        "\n",
        "# Data Preprocessing - Min-max Normalization\n",
        "X1 = (X1 - X1.min()) / (X1.max() - X1.min())\n",
        "X2 = (X2 - X2.min()) / (X2.max() - X2.min())\n",
        "y = (y - y.min()) / (y.max() - y.min())\n",
        "\n",
        "# Output\n",
        "results = slope_intercept(X1,X2,y)\n",
        "\n",
        "print(f'''The required values are as follows:\n",
        "1. b0 = {results[0]}\n",
        "2. b1 = {results[1]}\n",
        "3. b2 = {results[2]}''')"
      ],
      "metadata": {
        "colab": {
          "base_uri": "https://localhost:8080/"
        },
        "id": "we1geDlIQoHk",
        "outputId": "3bf2b6fe-2595-413a-c3d5-0ffdeda591b7"
      },
      "execution_count": 18,
      "outputs": [
        {
          "output_type": "stream",
          "name": "stdout",
          "text": [
            "The required values are as follows:\n",
            "1. b0 = -3.7927941063405006\n",
            "2. b1 = 2.885950933004165\n",
            "3. b2 = 5.726457236338931\n"
          ]
        }
      ]
    },
    {
      "cell_type": "markdown",
      "source": [
        "# Multiple Linear Regression - Inbuilt module for kaggle dataset "
      ],
      "metadata": {
        "id": "jinwjRARWhEG"
      }
    },
    {
      "cell_type": "code",
      "source": [
        "# Imports\n",
        "from sklearn.linear_model import LinearRegression\n",
        "\n",
        "# Value inputs\n",
        "data = pd.read_csv(\"50_Startups.csv\")\n",
        "X = data.iloc[:,:-2].values\n",
        "y = data.iloc[:,-1].values\n",
        "\n",
        "# Data Preprocessing - Min-max Normalization\n",
        "X = (X - X.min()) / (X.max() - X.min())\n",
        "y = (y - y.min()) / (y.max() - y.min())\n",
        "\n",
        "# Fitting in the model\n",
        "model = LinearRegression()\n",
        "model.fit(X,y)\n",
        "\n",
        "coeff = model.coef_\n",
        "\n",
        "print(f'''The required values are as follows:\n",
        "1. b0 = {model.intercept_}\n",
        "2. b1 = {coeff[0]}\n",
        "3. b2 = {coeff[1]}''')"
      ],
      "metadata": {
        "colab": {
          "base_uri": "https://localhost:8080/"
        },
        "id": "RtXwKs8oWnKL",
        "outputId": "51e8d6f0-78be-4581-bf7e-f37c3a2af84d"
      },
      "execution_count": 24,
      "outputs": [
        {
          "output_type": "stream",
          "name": "stdout",
          "text": [
            "The required values are as follows:\n",
            "1. b0 = 0.19957600615036952\n",
            "2. b1 = 2.1405711748808933\n",
            "3. b2 = -0.07124291519479935\n"
          ]
        }
      ]
    },
    {
      "cell_type": "markdown",
      "source": [
        "# Multiple Linear Regression - Normal Equation for kaggle dataset "
      ],
      "metadata": {
        "id": "_q4_hvHpXw8Q"
      }
    },
    {
      "cell_type": "markdown",
      "source": [
        "\n",
        "\n",
        "<img src=\"https://media.geeksforgeeks.org/wp-content/uploads/Untitled-drawing-1-10.png\">\n",
        "\n",
        "\n"
      ],
      "metadata": {
        "id": "Dgign_M_bIR8"
      }
    },
    {
      "cell_type": "code",
      "source": [
        "# Imports\n",
        "import numpy as np\n",
        "import pandas as pd\n",
        "import matplotlib.pyplot as plt\n",
        "\n",
        "# User defined function\n",
        "def fit(x,y):\n",
        "    '''Returns the required coefficients'''\n",
        "    one = np.ones((len(x),1))\n",
        "    x = np.append(one, x, axis=1)\n",
        "    y = np.array(y).reshape((len(y),1))\n",
        "    coeff = np.linalg.inv(x.transpose().dot(x)).dot(x.transpose()).dot(y)\n",
        "    return coeff\n",
        "\n",
        "# Value inputs\n",
        "data = pd.read_csv(\"50_Startups.csv\")\n",
        "X = data.iloc[:,:-2].values\n",
        "y = data.iloc[:,-1].values\n",
        "\n",
        "# Data Preprocessing - Min-max Normalization\n",
        "X = (X - X.min()) / (X.max() - X.min())\n",
        "y = (y - y.min()) / (y.max() - y.min())\n",
        "\n",
        "# Solution\n",
        "coeff = fit(X,y)\n",
        "\n",
        "print(f'''The required values are as follows:\n",
        "1. b0 = {coeff[0]}\n",
        "2. b1 = {coeff[1]}\n",
        "3. b2 = {coeff[2]}''')\n"
      ],
      "metadata": {
        "colab": {
          "base_uri": "https://localhost:8080/"
        },
        "id": "3vCw50iVX3oF",
        "outputId": "83734383-76a1-49b2-c68d-a7b28c73ecf3"
      },
      "execution_count": 20,
      "outputs": [
        {
          "output_type": "stream",
          "name": "stdout",
          "text": [
            "The required values are as follows:\n",
            "1. b0 = [0.19957601]\n",
            "2. b1 = [2.14057117]\n",
            "3. b2 = [-0.07124292]\n"
          ]
        }
      ]
    },
    {
      "cell_type": "markdown",
      "source": [
        "# Confusion Matrix"
      ],
      "metadata": {
        "id": "HjMNLFaxcI1A"
      }
    },
    {
      "cell_type": "code",
      "source": [
        "# Imports\n",
        "import numpy as np\n",
        "\n",
        "# User defined Functions\n",
        "def compute_conmat(actual, predicted):\n",
        "    '''Returns the confusion matrix'''\n",
        "    classes = np.unique(actual)\n",
        "    conmat = np.zeros((len(classes),len(classes)))\n",
        "    for i in range(len(classes)):\n",
        "        for j in range(len(classes)):\n",
        "            conmat[i,j] = np.sum((actual == classes[i]) & (predicted == classes[j]))\n",
        "    return conmat\n",
        "\n",
        "def totalSum(mat):\n",
        "    '''Returns total sum of elements in a confusion matrix'''\n",
        "    tot_sum = 0\n",
        "    for i in range(0, len(mat)):\n",
        "        for j in range(0, len(mat)):\n",
        "            tot_sum += mat[i][j]\n",
        "    return tot_sum\n",
        "\n",
        "def params(mat, n):\n",
        "    '''Returns parameters - accuracy, recall, precision and f1-score for multi class system'''\n",
        "    params = []\n",
        "    col_sum = [sum([row[i] for row in mat]) for i in range(0, len(mat[0]))]\n",
        "    row_sum = [sum(mat[i]) for i in range(len(mat))]\n",
        "    tp = mat[n][n]\n",
        "    fp = row_sum[n] - tp\n",
        "    fn = col_sum[n] - tp\n",
        "    tn = totalSum(mat) - fp - fn - tp\n",
        "    accuracy = (tp + tn) / totalSum(mat)\n",
        "    params.append(accuracy)\n",
        "    precision = tp / (tp + fp)\n",
        "    params.append(precision)\n",
        "    recall = tp / (tp + fn)\n",
        "    params.append(recall)\n",
        "    f1_score = (2 * precision * recall) / (precision + recall)\n",
        "    params.append(f1_score)\n",
        "    return params\n",
        "\n",
        "# Value inputs\n",
        "actual = [1, 3, 3, 2, 5, 5, 3, 2, 1, 4, 3, 2, 1, 1, 2]\n",
        "predicted = [1, 2, 3, 4, 2, 3, 3, 2, 1, 2, 3, 1, 5, 1, 1]\n",
        "\n",
        "# Output\n",
        "cm = compute_conmat(actual, predicted)\n",
        "\n",
        "for i in range(len(cm)):\n",
        "  print(f\"For the class {i+1}, the values are as follows: \")\n",
        "  print(f\"Accuracy: {params(cm,i)[0]}\")\n",
        "  print(f\"Precision: {params(cm,i)[1]}\")\n",
        "  print(f\"Recall: {params(cm,i)[2]}\")\n",
        "  print(f\"F1-Score: {params(cm,i)[3]}\")\n",
        "  print(\"*********************\")"
      ],
      "metadata": {
        "colab": {
          "base_uri": "https://localhost:8080/"
        },
        "id": "k6E6PAGScOm0",
        "outputId": "398a964c-3b91-4df4-a109-92566e7143c9"
      },
      "execution_count": 21,
      "outputs": [
        {
          "output_type": "stream",
          "name": "stdout",
          "text": [
            "For the class 1, the values are as follows: \n",
            "Accuracy: 0.8\n",
            "Precision: 0.75\n",
            "Recall: 0.6\n",
            "F1-Score: 0.6666666666666665\n",
            "*********************\n",
            "For the class 2, the values are as follows: \n",
            "Accuracy: 0.6\n",
            "Precision: 0.25\n",
            "Recall: 0.25\n",
            "F1-Score: 0.25\n",
            "*********************\n",
            "For the class 3, the values are as follows: \n",
            "Accuracy: 0.8666666666666667\n",
            "Precision: 0.75\n",
            "Recall: 0.75\n",
            "F1-Score: 0.75\n",
            "*********************\n",
            "For the class 4, the values are as follows: \n",
            "Accuracy: 0.8666666666666667\n",
            "Precision: 0.0\n",
            "Recall: 0.0\n",
            "F1-Score: nan\n",
            "*********************\n",
            "For the class 5, the values are as follows: \n",
            "Accuracy: 0.8\n",
            "Precision: 0.0\n",
            "Recall: 0.0\n",
            "F1-Score: nan\n",
            "*********************\n"
          ]
        },
        {
          "output_type": "stream",
          "name": "stderr",
          "text": [
            "/usr/local/lib/python3.7/dist-packages/ipykernel_launcher.py:37: RuntimeWarning: invalid value encountered in double_scalars\n"
          ]
        }
      ]
    },
    {
      "cell_type": "markdown",
      "source": [
        "# Noise Matrix"
      ],
      "metadata": {
        "id": "8BsbyjKng1Jq"
      }
    },
    {
      "cell_type": "code",
      "source": [
        "# Imports\n",
        "import numpy as np\n",
        "import matplotlib.image as mpimg\n",
        "\n",
        "# User defined Functions\n",
        "def rgb2gray(image):\n",
        "    '''Returns a gray image from an rgb image'''\n",
        "    R,G,B = image[:,:,0], image[:,:,1], image[:,:,2]\n",
        "    imgGray = 0.2989*R + 0.5870*G + 0.1140*B\n",
        "    return imgGray\n",
        "\n",
        "def addNoise(image):\n",
        "    '''Returns the data of an image with added noise'''\n",
        "    var = int(input(\"Enter the variance (for normal distribution) you want to add to the image? \"))\n",
        "    img_gray = rgb2gray(image)\n",
        "    noise = np.random.normal(0, var, img_gray.shape)\n",
        "    new_data = noise + img_gray\n",
        "    return new_data\n",
        "\n",
        "def displayImage(data):\n",
        "    plt.imshow(data, cmap='gray')\n",
        "\n",
        "# Value inputs\n",
        "image = mpimg.imread('gray_img.jpg')\n",
        "\n",
        "# Solution\n",
        "print(\"\\nThe image after adding the noise is: \\n\")\n",
        "displayImage(addNoise(image))"
      ],
      "metadata": {
        "colab": {
          "base_uri": "https://localhost:8080/",
          "height": 338
        },
        "id": "0Fd_49TAg4y-",
        "outputId": "d79cb470-7ef2-4efd-b1d1-361fee4516fb"
      },
      "execution_count": 25,
      "outputs": [
        {
          "name": "stdout",
          "output_type": "stream",
          "text": [
            "\n",
            "The image after adding the noise is: \n",
            "\n",
            "Enter the variance (for normal distribution) you want to add to the image? 20\n"
          ]
        },
        {
          "output_type": "display_data",
          "data": {
            "text/plain": [
              "<Figure size 432x288 with 1 Axes>"
            ],
            "image/png": "[encoded data removed]"
          },
          "metadata": {
            "needs_background": "light"
          }
        }
      ]
    },
    {
      "cell_type": "markdown",
      "source": [
        "# Gradient Descent - Simple Linear Regression with simple dataset"
      ],
      "metadata": {
        "id": "YJJf9QuHllzA"
      }
    },
    {
      "cell_type": "code",
      "source": [
        "# Imports\n",
        "import numpy as np\n",
        "\n",
        "# User defined Functions\n",
        "def mean_squared_error(y,y_pred):\n",
        "    '''Returns the cost'''\n",
        "    cost = np.sum((y-y_pred)**2)/len(y)\n",
        "    return cost\n",
        "\n",
        "def gradientDescent(x, y, iters=1000, learning_rate=0.001, epsilon=0.1):\n",
        "    '''Applying the Gradient Descent Algorithming the hyameters'''\n",
        "    curr_weight = 0\n",
        "    curr_bias = 0\n",
        "    iters = iters\n",
        "    learning_rate = learning_rate\n",
        "    n = float(len(x))\n",
        "\n",
        "    costs = []\n",
        "    weights = []\n",
        "    previous_cost = None\n",
        "\n",
        "    for i in range(iters):\n",
        "        y_pred = (curr_weight * x) + curr_bias\n",
        "        curr_cost = mean_squared_error(y,y_pred)\n",
        "\n",
        "        # If change in cost <= stopping_threshold, then we stop the algorithm\n",
        "        if previous_cost and abs(previous_cost-curr_cost) <= epsilon:\n",
        "            break\n",
        "\n",
        "        previous_cost = curr_cost\n",
        "\n",
        "        costs.append(curr_cost)\n",
        "        weights.append(curr_weight)\n",
        "\n",
        "        weight_derivative = -(2/n) * sum(x * (y - y_pred))\n",
        "        bias_derivative = -(2/n) * sum(y - y_pred)\n",
        "\n",
        "        curr_weight = curr_weight - (learning_rate * weight_derivative)\n",
        "        curr_bias = curr_bias - (learning_rate * bias_derivative)\n",
        "\n",
        "        print(f\"Iteration {i+1}: Cost = {curr_cost}, Weight = {curr_weight}, Bias = {curr_bias}\")\n",
        "\n",
        "    plt.figure(figsize = (8,6))\n",
        "    plt.plot(weights, costs)\n",
        "    plt.scatter(weights, costs, marker='o', color='red')\n",
        "    plt.title(\"Cost vs Weights\")\n",
        "    plt.ylabel(\"Cost\")\n",
        "    plt.xlabel(\"Weight\")\n",
        "    plt.show()\n",
        "\n",
        "    return curr_weight, curr_bias\n",
        "\n",
        "# Value inputs\n",
        "X = np.array([2,3,5,13,8,16,11,2])\n",
        "Y = np.array([15,28,42,64,50,90,58,8])\n",
        "\n",
        "# Solution\n",
        "estimated_weight, estimated_bias = gradientDescent(X, Y, iters=2000)\n",
        "\n",
        "print(f\"Estimated Weight: {estimated_weight}\\nEstimated Bias: {estimated_bias}\")"
      ],
      "metadata": {
        "colab": {
          "base_uri": "https://localhost:8080/",
          "height": 907
        },
        "id": "FBmDtRMSltYy",
        "outputId": "687a0216-6f7b-493b-ebbb-776d4c1d5e87"
      },
      "execution_count": 26,
      "outputs": [
        {
          "output_type": "stream",
          "name": "stdout",
          "text": [
            "Iteration 1: Cost = 2612.125, Weight = 0.9125, Bias = 0.08875\n",
            "Iteration 2: Cost = 1840.6763140624998, Weight = 1.67493125, Bias = 0.163635\n",
            "Iteration 3: Cost = 1302.005232581096, Weight = 2.31196293125, Bias = 0.22693376124999998\n",
            "Iteration 4: Cost = 925.871456044458, Weight = 2.8442089670375, Bias = 0.28055044975875\n",
            "Iteration 5: Cost = 663.2295941170923, Weight = 3.288894648664006, Bias = 0.32607621435366996\n",
            "Iteration 6: Cost = 479.83363233031446, Weight = 3.660413677716468, Bias = 0.3648406421950025\n",
            "Iteration 7: Cost = 351.7712417354, Weight = 3.9707936386157585, Bias = 0.3979547557448655\n",
            "Iteration 8: Cost = 262.3456041853296, Weight = 4.230084954185217, Bias = 0.4263469416541394\n",
            "Iteration 9: Cost = 199.89814234552153, Weight = 4.446685902528214, Bias = 0.45079297345805286\n",
            "Iteration 10: Cost = 156.28823778710944, Weight = 4.627614205814245, Bias = 0.4719410989732135\n",
            "Iteration 11: Cost = 125.83169195535433, Weight = 4.778733973781925, Bias = 0.49033300368805344\n",
            "Iteration 12: Cost = 104.55950501151743, Weight = 4.9049453410001504, Bias = 0.5064213280739485\n",
            "Iteration 13: Cost = 89.70031709134449, Weight = 5.010342930496017, Bias = 0.5205843053027983\n",
            "Iteration 14: Cost = 79.31902216817494, Weight = 5.0983482682456245, Bias = 0.5331379927347525\n",
            "Iteration 15: Cost = 72.06442966222062, Weight = 5.171820430630566, Bias = 0.5443464927255987\n",
            "Iteration 16: Cost = 66.99306879570969, Weight = 5.2331485030469, Bias = 0.5544304932806889\n",
            "Iteration 17: Cost = 63.44615973002679, Weight = 5.284328839651045, Bias = 0.563574404748424\n",
            "Iteration 18: Cost = 60.963708484977786, Weight = 5.327029622716698, Bias = 0.5719323233441614\n",
            "Iteration 19: Cost = 59.22452359240586, Weight = 5.362644809363714, Bias = 0.5796330143567227\n",
            "Iteration 20: Cost = 58.00433263816305, Weight = 5.392339210222078, Bias = 0.5867840761875535\n",
            "Iteration 21: Cost = 57.14653707720183, Weight = 5.417086157813066, Bias = 0.5934754198818472\n",
            "Iteration 22: Cost = 56.54179174107999, Weight = 5.437698982791309, Bias = 0.5997821766748874\n",
            "Iteration 23: Cost = 56.11374619965744, Weight = 5.454857315946202, Bias = 0.605767127579668\n",
            "Iteration 24: Cost = 55.80908864635821, Weight = 5.469129066533276, Bias = 0.6114827335853157\n",
            "Iteration 25: Cost = 55.590594026712125, Weight = 5.480988787684573, Bias = 0.6169728321201459\n",
            "Iteration 26: Cost = 55.432269884092705, Weight = 5.490833022810185, Bias = 0.622274054640637\n",
            "Iteration 27: Cost = 55.31596693951149, Weight = 5.498993129272515, Bias = 0.627417011189203\n"
          ]
        },
        {
          "output_type": "display_data",
          "data": {
            "text/plain": [
              "<Figure size 576x432 with 1 Axes>"
            ],
            "image/png": "[encoded data removed]"
          },
          "metadata": {
            "needs_background": "light"
          }
        },
        {
          "output_type": "stream",
          "name": "stdout",
          "text": [
            "Estimated Weight: 5.498993129272515\n",
            "Estimated Bias: 0.627417011189203\n"
          ]
        }
      ]
    },
    {
      "cell_type": "markdown",
      "source": [
        "# K-Means Clustering Algorithm using Kaggle Dataset"
      ],
      "metadata": {
        "id": "epxlHNRXqOSO"
      }
    },
    {
      "cell_type": "code",
      "source": [
        "# Imports\n",
        "import numpy as np\n",
        "import pandas as pd\n",
        "import random\n",
        "import matplotlib.pyplot as plt\n",
        "\n",
        "# User defined Functions\n",
        "def calc_distance(x1,x2):\n",
        "    '''Returns the sum between two vectors'''\n",
        "    return (sum((x1 - x2)**2))**0.5\n",
        "\n",
        "def find_closest_centroids(ic,X):\n",
        "    '''Returns the corresponding assigned centroid to the given value'''\n",
        "    assigned_centroid = []\n",
        "    for i in X:\n",
        "        distance = []\n",
        "        for j in ic:\n",
        "            distance.append(calc_distance(i,j))\n",
        "        assigned_centroid.append(np.argmin(distance))\n",
        "    return assigned_centroid\n",
        "\n",
        "def calc_centroids(clusters, X):\n",
        "    '''Returns the new centroids after each iteration'''\n",
        "    new_centroids = []\n",
        "    new_df = pd.concat([pd.DataFrame(X), pd.DataFrame(\n",
        "        clusters, columns=['cluster'])], axis=1)\n",
        "    # print(new_df)\n",
        "    for c in set(new_df['cluster']):\n",
        "        current_cluster = new_df[new_df['cluster'] == c][new_df.columns[:-1]]\n",
        "        cluster_mean = current_cluster.mean(axis=0)\n",
        "        new_centroids.append(cluster_mean)\n",
        "    return new_centroids\n",
        "\n",
        "# Value inputs\n",
        "df1 = pd.read_excel('kmean.xlsx', header=None)\n",
        "\n",
        "# Solution\n",
        "X = np.array(df1)\n",
        "\n",
        "init_centroids = random.sample(range(0, len(df1)), 3)\n",
        "\n",
        "centroids = []\n",
        "for i in init_centroids:\n",
        "    centroids.append(df1.loc[i])\n",
        "\n",
        "centroids = np.array(centroids)\n",
        "\n",
        "for i in range(10):\n",
        "    get_centroids = find_closest_centroids(centroids, X)\n",
        "    centroids = calc_centroids(get_centroids, X)\n",
        "    # print(centroids)\n",
        "    plt.figure()\n",
        "    plt.scatter(np.array(centroids)[:, 0], np.array(\n",
        "        centroids)[:, 1], color='black')\n",
        "    plt.scatter(X[:, 0], X[:, 1], alpha=0.1)\n",
        "    plt.show()"
      ],
      "metadata": {
        "id": "CfRcfYVsqaKF"
      },
      "execution_count": null,
      "outputs": []
    },
    {
      "cell_type": "markdown",
      "source": [
        "# Hierarchial Clustering"
      ],
      "metadata": {
        "id": "s4tqU4yLGSqQ"
      }
    },
    {
      "cell_type": "code",
      "source": [
        "from copy import deepcopy\n",
        "import numpy as np\n",
        "import pandas as pd\n",
        "from matplotlib import pyplot as plt\n",
        "\n",
        "plt.rcParams['figure.figsize'] = (16, 9)\n",
        "plt.style.use('ggplot')\n",
        "\n",
        "# Importing the dataset\n",
        "data = pd.read_csv('xclara.csv')\n",
        "print(\"Input Data and Shape\")\n",
        "print(data.shape)\n",
        "data.head()\n",
        "\n",
        "# Getting the values and plotting it\n",
        "f1 = data['V1'].values\n",
        "f2 = data['V2'].values\n",
        "X = np.array(list(zip(f1, f2)))\n",
        "plt.scatter(f1, f2, c='black', s=7)\n",
        "\n",
        "# Euclidean Distance Caculator\n",
        "def dist(a, b, ax=1):\n",
        "    return np.linalg.norm(a - b, axis=ax)\n",
        "\n",
        "# Number of clusters\n",
        "k = 3\n",
        "# X coordinates of random centroids\n",
        "C_x = np.random.randint(0, np.max(X)-20, size=k)\n",
        "# Y coordinates of random centroids\n",
        "C_y = np.random.randint(0, np.max(X)-20, size=k)\n",
        "C = np.array(list(zip(C_x, C_y)), dtype=np.float32)\n",
        "print(\"Initial Centroids\")\n",
        "print(C)\n",
        "\n",
        "# Plotting along with the Centroids\n",
        "plt.scatter(f1, f2, c='#050505', s=7)\n",
        "plt.scatter(C_x, C_y, marker='*', s=200, c='g')\n",
        "\n",
        "# To store the value of centroids when it updates\n",
        "C_old = np.zeros(C.shape)\n",
        "# Cluster Lables(0, 1, 2)\n",
        "clusters = np.zeros(len(X))\n",
        "# Error func. - Distance between new centroids and old centroids\n",
        "error = dist(C, C_old, None)\n",
        "# Loop will run till the error becomes zero\n",
        "while error != 0:\n",
        "    # Assigning each value to its closest cluster\n",
        "    for i in range(len(X)):\n",
        "        distances = dist(X[i], C)\n",
        "        cluster = np.argmin(distances)\n",
        "        clusters[i] = cluster\n",
        "    # Storing the old centroid values\n",
        "    C_old = deepcopy(C)\n",
        "    # Finding the new centroids by taking the average value\n",
        "    for i in range(k):\n",
        "        points = [X[j] for j in range(len(X)) if clusters[j] == i]\n",
        "        C[i] = np.mean(points, axis=0)\n",
        "    error = dist(C, C_old, None)\n",
        "\n",
        "colors = ['r', 'g', 'b', 'y', 'c', 'm']\n",
        "fig, ax = plt.subplots()\n",
        "for i in range(k):\n",
        "        points = np.array([X[j] for j in range(len(X)) if clusters[j] == i])\n",
        "        ax.scatter(points[:, 0], points[:, 1], s=7, c=colors[i])\n",
        "ax.scatter(C[:, 0], C[:, 1], marker='*', s=200, c='#050505')\n",
        "\n",
        "\n",
        "\n",
        "'''\n",
        "==========================================================\n",
        "scikit-learn\n",
        "==========================================================\n",
        "'''\n",
        "\n",
        "from sklearn.cluster import KMeans\n",
        "\n",
        "# Number of clusters\n",
        "kmeans = KMeans(n_clusters=3)\n",
        "# Fitting the input data\n",
        "kmeans = kmeans.fit(X)\n",
        "# Getting the cluster labels\n",
        "labels = kmeans.predict(X)\n",
        "# Centroid values\n",
        "centroids = kmeans.cluster_centers_\n",
        "\n",
        "# Comparing with scikit-learn centroids\n",
        "print(\"Centroid values\")\n",
        "print(\"Scratch\")\n",
        "print(C) # From Scratch\n",
        "print(\"sklearn\")\n",
        "print(centroids) # From sci-kit learn"
      ],
      "metadata": {
        "id": "9Uqb-YvsIv_m"
      },
      "execution_count": null,
      "outputs": []
    }
  ]
}