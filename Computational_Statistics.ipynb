{
  "nbformat": 4,
  "nbformat_minor": 0,
  "metadata": {
    "colab": {
      "name": "Computational Statistics.ipynb",
      "provenance": [],
      "collapsed_sections": [],
      "authorship_tag": "ABX9TyMNaIWU7kt2J9dPK58tKB7r",
      "include_colab_link": true
    },
    "kernelspec": {
      "name": "python3",
      "display_name": "Python 3"
    },
    "language_info": {
      "name": "python"
    }
  },
  "cells": [
    {
      "cell_type": "markdown",
      "metadata": {
        "id": "view-in-github",
        "colab_type": "text"
      },
      "source": [
        "<a href=\"https://colab.research.google.com/github/Jasleen8801/Computational-Statistics/blob/main/Computational_Statistics.ipynb\" target=\"_parent\"><img src=\"https://colab.research.google.com/assets/colab-badge.svg\" alt=\"Open In Colab\"/></a>"
      ]
    },
    {
      "cell_type": "code",
      "execution_count": 258,
      "metadata": {
        "id": "MyM2uNCHQ6SV"
      },
      "outputs": [],
      "source": [
        "import numpy as np\n",
        "import pandas as pd\n",
        "import matplotlib.pyplot as plt\n",
        "from sklearn.linear_model import LinearRegression"
      ]
    },
    {
      "cell_type": "markdown",
      "source": [
        "# Common Functions Used"
      ],
      "metadata": {
        "id": "0Mh8bauC_WhL"
      }
    },
    {
      "cell_type": "code",
      "source": [
        "def mean(list):\n",
        "  sum = 0\n",
        "  for num in list:\n",
        "    sum += int(num)\n",
        "  avg = sum/len(list)\n",
        "  return avg"
      ],
      "metadata": {
        "id": "xwCfUiwPs0dl"
      },
      "execution_count": 223,
      "outputs": []
    },
    {
      "cell_type": "code",
      "source": [
        "def sum(list):\n",
        "  sum = mean(list)*len(list)\n",
        "  return sum"
      ],
      "metadata": {
        "id": "B2MUhIR2yNNU"
      },
      "execution_count": 224,
      "outputs": []
    },
    {
      "cell_type": "markdown",
      "source": [
        "# 1) Linear Regression "
      ],
      "metadata": {
        "id": "OqGbfcWJRQJL"
      }
    },
    {
      "cell_type": "markdown",
      "source": [
        "## Functions Used"
      ],
      "metadata": {
        "id": "IOQp-R-NA80v"
      }
    },
    {
      "cell_type": "code",
      "source": [
        "def coeff(x, y):\n",
        "  n = len(x)\n",
        "\n",
        "  mean_x = mean(x)\n",
        "  mean_y = mean(y)\n",
        "\n",
        "  # b1_num = sum((x-mean_x)*(y-mean_y))\n",
        "  # b1_den = sum((x-mean_x)**2)\n",
        "  # b_1 = b1_num/b1_den\n",
        "\n",
        "  SS_xy = sum(y*x) - n*mean_y*mean_x\n",
        "  SS_xx = sum(x*x) - n*mean_x*mean_x\n",
        "\n",
        "  b_1 = SS_xy / SS_xx\n",
        "  b_0 = mean_y - b_1*mean_x\n",
        "\n",
        "  return (b_0, b_1)"
      ],
      "metadata": {
        "id": "cSWP_xgMnXc7"
      },
      "execution_count": 225,
      "outputs": []
    },
    {
      "cell_type": "code",
      "source": [
        "def plot_regr_line(x, y, b):\n",
        "  plt.scatter(x, y, color=\"b\")\n",
        "\n",
        "  y_pred = b[0] + b[1]*x\n",
        "\n",
        "  plt.plot(x, y_pred, color=\"r\")\n",
        "\n",
        "  plt.xlabel('x')\n",
        "  plt.ylabel('y')\n",
        "\n",
        "  plt.show()"
      ],
      "metadata": {
        "id": "Ty-oaZcRzK_P"
      },
      "execution_count": 226,
      "outputs": []
    },
    {
      "cell_type": "code",
      "source": [
        "def coeff_of_det(x, y):\n",
        "  n = len(x)\n",
        "  r2_num = (n*sum(x*y) - sum(x)*sum(y))**2\n",
        "  r2_den = (n*sum(x*x) - (sum(x))**2) * (n*sum(y*y) - (sum(y))**2)\n",
        "  r_2 = r2_num/r2_den\n",
        "  return r_2"
      ],
      "metadata": {
        "id": "mpQdTei15jXK"
      },
      "execution_count": 227,
      "outputs": []
    },
    {
      "cell_type": "markdown",
      "source": [
        "## Using Manual Calculations\n",
        "\n"
      ],
      "metadata": {
        "id": "vpTU7qBBRiFr"
      }
    },
    {
      "cell_type": "markdown",
      "source": [
        "#### Random Dataset"
      ],
      "metadata": {
        "id": "et25bsjknSQp"
      }
    },
    {
      "cell_type": "code",
      "source": [
        "x = np.array([0,1,2,3,4,5,6,7,8,9])\n",
        "y = np.array([1,3,2,5,7,8,8,9,10,12])"
      ],
      "metadata": {
        "id": "7OPCOzgQRPl1"
      },
      "execution_count": 228,
      "outputs": []
    },
    {
      "cell_type": "code",
      "source": [
        "b = coeff(x,y)\n",
        "print(\"Estimated coefficients:\\n b_0 = {}  \\n b_1 = {}\".format(b[0], b[1]))\n",
        "print(f\"Coefficient of Determination: {coeff_of_det(x,y)}\")"
      ],
      "metadata": {
        "colab": {
          "base_uri": "https://localhost:8080/"
        },
        "id": "iqdjzIxmy8bJ",
        "outputId": "4b251695-a860-49f7-d518-78641481ca87"
      },
      "execution_count": 229,
      "outputs": [
        {
          "output_type": "stream",
          "name": "stdout",
          "text": [
            "Estimated coefficients:\n",
            " b_0 = 1.2363636363636363  \n",
            " b_1 = 1.1696969696969697\n",
            "Coefficient of Determination: 0.952538038613988\n"
          ]
        }
      ]
    },
    {
      "cell_type": "code",
      "source": [
        "plot_regr_line(x, y, b)"
      ],
      "metadata": {
        "colab": {
          "base_uri": "https://localhost:8080/",
          "height": 279
        },
        "id": "tA45WexL8IXw",
        "outputId": "2f8a5353-45c2-4cd4-9f35-8308951e8d40"
      },
      "execution_count": 230,
      "outputs": [
        {
          "output_type": "display_data",
          "data": {
            "text/plain": [
              "<Figure size 432x288 with 1 Axes>"
            ],
            "image/png": "[encoded data removed]"
          },
          "metadata": {
            "needs_background": "light"
          }
        }
      ]
    },
    {
      "cell_type": "markdown",
      "source": [
        "#### Kaggle Dataset"
      ],
      "metadata": {
        "id": "zEv38Sg1zxxm"
      }
    },
    {
      "cell_type": "code",
      "source": [
        "data = pd.read_csv('Salary_Data.csv')\n",
        "x = data['YearsExperience']\n",
        "y = data['Salary']"
      ],
      "metadata": {
        "id": "G6kQqz8cz1YO"
      },
      "execution_count": 231,
      "outputs": []
    },
    {
      "cell_type": "code",
      "source": [
        "b = coeff(x,y)\n",
        "print(\"Estimated coefficients:\\n b_0 = {}  \\n b_1 = {}\".format(b[0], b[1]))\n",
        "print(f\"Coefficient of Determination: {coeff_of_det(x,y)}\")"
      ],
      "metadata": {
        "colab": {
          "base_uri": "https://localhost:8080/"
        },
        "id": "PLSPD8u40lJJ",
        "outputId": "e98c1988-ca96-4966-c5bd-aafe65e0acc5"
      },
      "execution_count": 232,
      "outputs": [
        {
          "output_type": "stream",
          "name": "stdout",
          "text": [
            "Estimated coefficients:\n",
            " b_0 = 31650.50546021841  \n",
            " b_1 = 8990.370514820592\n",
            "Coefficient of Determination: 1.2678138921682631\n"
          ]
        }
      ]
    },
    {
      "cell_type": "code",
      "source": [
        "plot_regr_line(x, y, b)"
      ],
      "metadata": {
        "colab": {
          "base_uri": "https://localhost:8080/",
          "height": 0
        },
        "id": "U5Ery0Yr94Mh",
        "outputId": "317ae8ce-1ece-46a4-ff91-15496638813f"
      },
      "execution_count": 233,
      "outputs": [
        {
          "output_type": "display_data",
          "data": {
            "text/plain": [
              "<Figure size 432x288 with 1 Axes>"
            ],
            "image/png": "[encoded data removed]"
          },
          "metadata": {
            "needs_background": "light"
          }
        }
      ]
    },
    {
      "cell_type": "markdown",
      "source": [
        "## Using Inbuilt Functions"
      ],
      "metadata": {
        "id": "_6_PlHfZ4Hgx"
      }
    },
    {
      "cell_type": "markdown",
      "source": [
        "#### Random Dataset"
      ],
      "metadata": {
        "id": "1Ere4GXw41mD"
      }
    },
    {
      "cell_type": "code",
      "source": [
        "x = np.array([0,1,2,3,4,5,6,7,8,9]).reshape((-1, 1))\n",
        "y = np.array([1,3,2,5,7,8,8,9,10,12])"
      ],
      "metadata": {
        "id": "beaKEV904Mss"
      },
      "execution_count": 234,
      "outputs": []
    },
    {
      "cell_type": "code",
      "source": [
        "model = LinearRegression().fit(x, y)"
      ],
      "metadata": {
        "id": "f24TBt8c45ze"
      },
      "execution_count": 235,
      "outputs": []
    },
    {
      "cell_type": "code",
      "source": [
        "r_sq = model.score(x, y)\n",
        "print(f\"coefficient of determination: {r_sq}\")\n",
        "print(f\"intercept: {model.intercept_}\")\n",
        "print(f\"slope: {model.coef_}\")"
      ],
      "metadata": {
        "colab": {
          "base_uri": "https://localhost:8080/"
        },
        "id": "DY3zrFzu49bX",
        "outputId": "a6f840a6-3ac8-4706-8a65-a396fa9a2e04"
      },
      "execution_count": 236,
      "outputs": [
        {
          "output_type": "stream",
          "name": "stdout",
          "text": [
            "coefficient of determination: 0.952538038613988\n",
            "intercept: 1.2363636363636363\n",
            "slope: [1.16969697]\n"
          ]
        }
      ]
    },
    {
      "cell_type": "markdown",
      "source": [
        "#### Kaggle Dataset"
      ],
      "metadata": {
        "id": "iWbm6ueS8UP7"
      }
    },
    {
      "cell_type": "code",
      "source": [
        "data = pd.read_csv('Salary_Data.csv')\n",
        "x = np.array(data['YearsExperience']).reshape((-1, 1))\n",
        "y = np.array(data['Salary'])"
      ],
      "metadata": {
        "id": "frdRFkCV8Vka"
      },
      "execution_count": 237,
      "outputs": []
    },
    {
      "cell_type": "code",
      "source": [
        "model = LinearRegression().fit(x, y)"
      ],
      "metadata": {
        "id": "a1P2jfvR8aHE"
      },
      "execution_count": 238,
      "outputs": []
    },
    {
      "cell_type": "code",
      "source": [
        "r_sq = model.score(x, y)\n",
        "print(f\"coefficient of determination: {r_sq}\")\n",
        "print(f\"intercept: {model.intercept_}\")\n",
        "print(f\"slope: {model.coef_}\")"
      ],
      "metadata": {
        "colab": {
          "base_uri": "https://localhost:8080/"
        },
        "id": "RGEFi2yh8jOF",
        "outputId": "d088d09b-a3e1-485f-8734-05513896a31a"
      },
      "execution_count": 239,
      "outputs": [
        {
          "output_type": "stream",
          "name": "stdout",
          "text": [
            "coefficient of determination: 0.9569566641435086\n",
            "intercept: 25792.200198668696\n",
            "slope: [9449.96232146]\n"
          ]
        }
      ]
    },
    {
      "cell_type": "markdown",
      "source": [
        "# 2) Variance inflation factor (VIF)\n"
      ],
      "metadata": {
        "id": "e3BaVOoB-M-y"
      }
    },
    {
      "cell_type": "markdown",
      "source": [
        "## Functions Used"
      ],
      "metadata": {
        "id": "OOhiafAKBCMY"
      }
    },
    {
      "cell_type": "code",
      "source": [
        "def VIF(x, y):\n",
        "  R_2 = coeff_of_det(x,y)\n",
        "  VIF_value = 1 / (1 - R_2)\n",
        "  return VIF_value"
      ],
      "metadata": {
        "id": "EgfKo3cj-lNM"
      },
      "execution_count": 240,
      "outputs": []
    },
    {
      "cell_type": "code",
      "source": [
        "def predicted(x, b0, b1):\n",
        "  y_pred = b_0 + b_1*x\n",
        "  return y_pred"
      ],
      "metadata": {
        "id": "xQyORQd2BwIt"
      },
      "execution_count": 241,
      "outputs": []
    },
    {
      "cell_type": "code",
      "source": [
        "def SSR(y_mean, y_pred):\n",
        "  SSR_value = sum((y_mean - y_pred)**2)\n",
        "  return SSR_value"
      ],
      "metadata": {
        "id": "oHbMhDuMC4cl"
      },
      "execution_count": 242,
      "outputs": []
    },
    {
      "cell_type": "code",
      "source": [
        "def SST(y_mean, y_i):\n",
        "  SST_value = sum((y_i - y_mean)**2)\n",
        "  return SST_value"
      ],
      "metadata": {
        "id": "CK9V586NDgfS"
      },
      "execution_count": 243,
      "outputs": []
    },
    {
      "cell_type": "code",
      "source": [
        "def SSE(y_pred, y_i):\n",
        "  SSR_value = sum((y_i - y_pred)**2)\n",
        "  return SSR_value"
      ],
      "metadata": {
        "id": "3_vHKsopDo5q"
      },
      "execution_count": 244,
      "outputs": []
    },
    {
      "cell_type": "markdown",
      "source": [
        "## Using Manual Calculations"
      ],
      "metadata": {
        "id": "BNLql162D2EU"
      }
    },
    {
      "cell_type": "markdown",
      "source": [
        "#### Random Dataset"
      ],
      "metadata": {
        "id": "l1l_GCC4EFX6"
      }
    },
    {
      "cell_type": "code",
      "source": [
        "df = pd.DataFrame({'hours': [1, 1, 1, 2, 2, 2, 2, 2, 3, 3,\n",
        "                             3, 4, 4, 4, 5, 5, 6, 7, 7, 8],\n",
        "                   'score': [68, 76, 74, 80, 76, 78, 81, 84, 86, 83,\n",
        "                             88, 85, 89, 94, 93, 94, 96, 89, 92, 97]})\n",
        "\n",
        "y = df['score'].to_numpy()\n",
        "x = df['hours'].to_numpy()"
      ],
      "metadata": {
        "id": "ARGLmkLlFlks"
      },
      "execution_count": 249,
      "outputs": []
    },
    {
      "cell_type": "code",
      "source": [
        "y_mean = mean(y)\n",
        "b_0,b_1 = coeff(x,y)\n",
        "y_pred = predicted(x, b_0, b_1)\n",
        "# print(y_pred)"
      ],
      "metadata": {
        "id": "UQTBYb7lGsr6"
      },
      "execution_count": 252,
      "outputs": []
    },
    {
      "cell_type": "code",
      "source": [
        "print(f\"The SSR for the given model is: {SSR(y_mean, y_pred)}\")\n",
        "print(f\"The SST for the given model is: {SST(y_mean, y)}\")\n",
        "print(f\"The SSE for the given model is: {SSE(y_pred, y)}\")\n",
        "print(f\"The VIF value is: {VIF(x, y)}\")"
      ],
      "metadata": {
        "colab": {
          "base_uri": "https://localhost:8080/"
        },
        "id": "XiJ3u_hkH5Cb",
        "outputId": "38ff7733-0a04-4f36-c79f-dbd47038b19f"
      },
      "execution_count": 255,
      "outputs": [
        {
          "output_type": "stream",
          "name": "stdout",
          "text": [
            "The SSR for the given model is: 908.0\n",
            "The SST for the given model is: 1239.0\n",
            "The SSE for the given model is: 322.0\n",
            "The VIF value is: 3.7712011914828465\n"
          ]
        }
      ]
    }
  ]
}