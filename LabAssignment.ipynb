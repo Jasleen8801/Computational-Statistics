{
  "nbformat": 4,
  "nbformat_minor": 0,
  "metadata": {
    "colab": {
      "provenance": [],
      "authorship_tag": "ABX9TyNLQ3nGjhzNg8NCENtM6COS",
      "include_colab_link": true
    },
    "kernelspec": {
      "name": "python3",
      "display_name": "Python 3"
    },
    "language_info": {
      "name": "python"
    }
  },
  "cells": [
    {
      "cell_type": "markdown",
      "metadata": {
        "id": "view-in-github",
        "colab_type": "text"
      },
      "source": [
        "<a href=\"https://colab.research.google.com/github/Jasleen8801/Computational-Statistics/blob/main/LabAssignment.ipynb\" target=\"_parent\"><img src=\"https://colab.research.google.com/assets/colab-badge.svg\" alt=\"Open In Colab\"/></a>"
      ]
    },
    {
      "cell_type": "code",
      "execution_count": 29,
      "metadata": {
        "colab": {
          "base_uri": "https://localhost:8080/",
          "height": 212
        },
        "id": "i14H4s-w96Xl",
        "outputId": "7609b97c-c9da-41e5-a64c-c4e4c216d10f"
      },
      "outputs": [
        {
          "output_type": "display_data",
          "data": {
            "text/plain": [
              "<IPython.core.display.HTML object>"
            ],
            "text/html": [
              "\n",
              "     <input type=\"file\" id=\"files-71a00a54-db7a-4a43-9c6b-e5fef24ab1ad\" name=\"files[]\" multiple disabled\n",
              "        style=\"border:none\" />\n",
              "     <output id=\"result-71a00a54-db7a-4a43-9c6b-e5fef24ab1ad\">\n",
              "      Upload widget is only available when the cell has been executed in the\n",
              "      current browser session. Please rerun this cell to enable.\n",
              "      </output>\n",
              "      <script>// Copyright 2017 Google LLC\n",
              "//\n",
              "// Licensed under the Apache License, Version 2.0 (the \"License\");\n",
              "// you may not use this file except in compliance with the License.\n",
              "// You may obtain a copy of the License at\n",
              "//\n",
              "//      http://www.apache.org/licenses/LICENSE-2.0\n",
              "//\n",
              "// Unless required by applicable law or agreed to in writing, software\n",
              "// distributed under the License is distributed on an \"AS IS\" BASIS,\n",
              "// WITHOUT WARRANTIES OR CONDITIONS OF ANY KIND, either express or implied.\n",
              "// See the License for the specific language governing permissions and\n",
              "// limitations under the License.\n",
              "\n",
              "/**\n",
              " * @fileoverview Helpers for google.colab Python module.\n",
              " */\n",
              "(function(scope) {\n",
              "function span(text, styleAttributes = {}) {\n",
              "  const element = document.createElement('span');\n",
              "  element.textContent = text;\n",
              "  for (const key of Object.keys(styleAttributes)) {\n",
              "    element.style[key] = styleAttributes[key];\n",
              "  }\n",
              "  return element;\n",
              "}\n",
              "\n",
              "// Max number of bytes which will be uploaded at a time.\n",
              "const MAX_PAYLOAD_SIZE = 100 * 1024;\n",
              "\n",
              "function _uploadFiles(inputId, outputId) {\n",
              "  const steps = uploadFilesStep(inputId, outputId);\n",
              "  const outputElement = document.getElementById(outputId);\n",
              "  // Cache steps on the outputElement to make it available for the next call\n",
              "  // to uploadFilesContinue from Python.\n",
              "  outputElement.steps = steps;\n",
              "\n",
              "  return _uploadFilesContinue(outputId);\n",
              "}\n",
              "\n",
              "// This is roughly an async generator (not supported in the browser yet),\n",
              "// where there are multiple asynchronous steps and the Python side is going\n",
              "// to poll for completion of each step.\n",
              "// This uses a Promise to block the python side on completion of each step,\n",
              "// then passes the result of the previous step as the input to the next step.\n",
              "function _uploadFilesContinue(outputId) {\n",
              "  const outputElement = document.getElementById(outputId);\n",
              "  const steps = outputElement.steps;\n",
              "\n",
              "  const next = steps.next(outputElement.lastPromiseValue);\n",
              "  return Promise.resolve(next.value.promise).then((value) => {\n",
              "    // Cache the last promise value to make it available to the next\n",
              "    // step of the generator.\n",
              "    outputElement.lastPromiseValue = value;\n",
              "    return next.value.response;\n",
              "  });\n",
              "}\n",
              "\n",
              "/**\n",
              " * Generator function which is called between each async step of the upload\n",
              " * process.\n",
              " * @param {string} inputId Element ID of the input file picker element.\n",
              " * @param {string} outputId Element ID of the output display.\n",
              " * @return {!Iterable<!Object>} Iterable of next steps.\n",
              " */\n",
              "function* uploadFilesStep(inputId, outputId) {\n",
              "  const inputElement = document.getElementById(inputId);\n",
              "  inputElement.disabled = false;\n",
              "\n",
              "  const outputElement = document.getElementById(outputId);\n",
              "  outputElement.innerHTML = '';\n",
              "\n",
              "  const pickedPromise = new Promise((resolve) => {\n",
              "    inputElement.addEventListener('change', (e) => {\n",
              "      resolve(e.target.files);\n",
              "    });\n",
              "  });\n",
              "\n",
              "  const cancel = document.createElement('button');\n",
              "  inputElement.parentElement.appendChild(cancel);\n",
              "  cancel.textContent = 'Cancel upload';\n",
              "  const cancelPromise = new Promise((resolve) => {\n",
              "    cancel.onclick = () => {\n",
              "      resolve(null);\n",
              "    };\n",
              "  });\n",
              "\n",
              "  // Wait for the user to pick the files.\n",
              "  const files = yield {\n",
              "    promise: Promise.race([pickedPromise, cancelPromise]),\n",
              "    response: {\n",
              "      action: 'starting',\n",
              "    }\n",
              "  };\n",
              "\n",
              "  cancel.remove();\n",
              "\n",
              "  // Disable the input element since further picks are not allowed.\n",
              "  inputElement.disabled = true;\n",
              "\n",
              "  if (!files) {\n",
              "    return {\n",
              "      response: {\n",
              "        action: 'complete',\n",
              "      }\n",
              "    };\n",
              "  }\n",
              "\n",
              "  for (const file of files) {\n",
              "    const li = document.createElement('li');\n",
              "    li.append(span(file.name, {fontWeight: 'bold'}));\n",
              "    li.append(span(\n",
              "        `(${file.type || 'n/a'}) - ${file.size} bytes, ` +\n",
              "        `last modified: ${\n",
              "            file.lastModifiedDate ? file.lastModifiedDate.toLocaleDateString() :\n",
              "                                    'n/a'} - `));\n",
              "    const percent = span('0% done');\n",
              "    li.appendChild(percent);\n",
              "\n",
              "    outputElement.appendChild(li);\n",
              "\n",
              "    const fileDataPromise = new Promise((resolve) => {\n",
              "      const reader = new FileReader();\n",
              "      reader.onload = (e) => {\n",
              "        resolve(e.target.result);\n",
              "      };\n",
              "      reader.readAsArrayBuffer(file);\n",
              "    });\n",
              "    // Wait for the data to be ready.\n",
              "    let fileData = yield {\n",
              "      promise: fileDataPromise,\n",
              "      response: {\n",
              "        action: 'continue',\n",
              "      }\n",
              "    };\n",
              "\n",
              "    // Use a chunked sending to avoid message size limits. See b/62115660.\n",
              "    let position = 0;\n",
              "    do {\n",
              "      const length = Math.min(fileData.byteLength - position, MAX_PAYLOAD_SIZE);\n",
              "      const chunk = new Uint8Array(fileData, position, length);\n",
              "      position += length;\n",
              "\n",
              "      const base64 = btoa(String.fromCharCode.apply(null, chunk));\n",
              "      yield {\n",
              "        response: {\n",
              "          action: 'append',\n",
              "          file: file.name,\n",
              "          data: base64,\n",
              "        },\n",
              "      };\n",
              "\n",
              "      let percentDone = fileData.byteLength === 0 ?\n",
              "          100 :\n",
              "          Math.round((position / fileData.byteLength) * 100);\n",
              "      percent.textContent = `${percentDone}% done`;\n",
              "\n",
              "    } while (position < fileData.byteLength);\n",
              "  }\n",
              "\n",
              "  // All done.\n",
              "  yield {\n",
              "    response: {\n",
              "      action: 'complete',\n",
              "    }\n",
              "  };\n",
              "}\n",
              "\n",
              "scope.google = scope.google || {};\n",
              "scope.google.colab = scope.google.colab || {};\n",
              "scope.google.colab._files = {\n",
              "  _uploadFiles,\n",
              "  _uploadFilesContinue,\n",
              "};\n",
              "})(self);\n",
              "</script> "
            ]
          },
          "metadata": {}
        },
        {
          "output_type": "stream",
          "name": "stdout",
          "text": [
            "Saving 50_Startups.csv to 50_Startups.csv\n",
            "Saving Advertising.csv to Advertising.csv\n",
            "Saving Car_sales.csv to Car_sales.csv\n",
            "Saving data.csv to data.csv\n",
            "Saving gray_img.jpg to gray_img.jpg\n"
          ]
        }
      ],
      "source": [
        "# Connecting with Google Drive\n",
        "# from google.colab import files\n",
        "# uploaded = files.upload()"
      ]
    },
    {
      "cell_type": "code",
      "source": [
        "# Modules Imported\n",
        "import numpy as np\n",
        "import matplotlib.pyplot as plt\n",
        "import pandas as pd\n",
        "import statistics\n",
        "import seaborn as sns\n",
        "import matplotlib.image as mpimg\n",
        "from sklearn.linear_model import LinearRegression\n",
        "from statsmodels.stats.outliers_influence import variance_inflation_factor\n",
        "from sklearn.model_selection import train_test_split"
      ],
      "metadata": {
        "id": "xeldTQhtBI-W"
      },
      "execution_count": 4,
      "outputs": []
    },
    {
      "cell_type": "markdown",
      "source": [
        "# Simple Linear Regression"
      ],
      "metadata": {
        "id": "WyJ9zzB_GvDS"
      }
    },
    {
      "cell_type": "code",
      "source": [
        "class SimpleLinearRegression:\n",
        "  def __init__(self) -> None:\n",
        "    self.Xm = np.array([0, 1, 2, 3, 4, 5, 6, 7, 8, 9])\n",
        "    self.ym = np.array([1, 3, 2, 5, 7, 8, 8, 9, 10, 12])\n",
        "    self.data = pd.read_csv(\"Salary_Data.csv\")\n",
        "\n",
        "  def _regrr_coeff(self, X, y):\n",
        "    n = len(X)\n",
        "    mean_x = statistics.mean(X)\n",
        "    mean_y = statistics.mean(y)\n",
        "    SS_xy = sum(y*X) - n*mean_y*mean_x\n",
        "    SS_xx = sum(X*X) - n*mean_x*mean_y\n",
        "    b_1 = SS_xy / SS_xx\n",
        "    b_0 = mean_y - b_1 * mean_x\n",
        "    return (b_0, b_1)\n",
        "\n",
        "  def _coeff_of_determination(self, X, y):\n",
        "    n = len(X)\n",
        "    r2_num = (n*sum(X*y) - sum(X)*sum(y))**2\n",
        "    r2_den = (n*sum(X*X) - (sum(X))**2) * (n*sum(y*y) - (sum(y))**2)\n",
        "    r_2 = r2_num / r2_den\n",
        "    return r_2\n",
        "\n",
        "  def SLR_1(self):\n",
        "    b = self._regrr_coeff(self.Xm, self.ym)\n",
        "    print(\"Estimated coefficients; \\n b_0 = {} \\n b_1 = {}\".format(b[0], b[1]))\n",
        "    print(f\"Coefficient of Determination: {self._coeff_of_determination(self.Xm, self.ym)}\")\n",
        "      \n",
        "  def SLR_2(self):\n",
        "    X = self.data['YearsExperience']\n",
        "    y = self.data['Salary']\n",
        "    X = ((X - X.min())/(X.max() - X.min()))\n",
        "    y = ((y - y.min())/(y.max() - y.min()))\n",
        "    b = self._regrr_coeff(X, y)\n",
        "    print(\"Estimated coefficients:\\n b_0 = {}  \\n b_1 = {}\".format(b[0], b[1]))\n",
        "    print(f\"Coefficient of Determination: {self._coeff_of_determination(X, y)}\")\n",
        "\n",
        "  def SLR_3(self):\n",
        "    self.Xm = self.Xm.reshape((-1, 1))\n",
        "    model = LinearRegression().fit(self.Xm, self.ym)\n",
        "    print(f\"Coefficient of Determination: {model.score(self.Xm, self.ym)}\")\n",
        "    print(f\"Intercept: {model.intercept_}\")\n",
        "    print(f\"Slope: {model.coef_}\")\n",
        "\n",
        "  def SLR_4(self):\n",
        "    X = np.array(self.data['YearsExperience']).reshape((-1, 1))\n",
        "    y = np.array(self.data['Salary'])\n",
        "    X = ((X - X.min())/(X.max() - X.min()))\n",
        "    y = ((y - y.min())/(y.max() - y.min()))\n",
        "    model = LinearRegression().fit(X, y)\n",
        "    print(f\"Coefficient of Determination: {model.score(X, y)}\")\n",
        "    print(f\"Intercept: {model.intercept_}\")\n",
        "    print(f\"Slope: {model.coef_}\")\n",
        "\n",
        "  def choose(self, val):\n",
        "    default = \"Incorrect Input\"\n",
        "    return getattr(self, 'SLR_' + str(val), lambda: default)()"
      ],
      "metadata": {
        "id": "VDs9Xca6Gy4R"
      },
      "execution_count": 31,
      "outputs": []
    },
    {
      "cell_type": "code",
      "source": [
        "def SimpleLinearRegression():\n",
        "  object = SimpleLinearRegression()\n",
        "  print(\"*******SIMPLE LINEAR REGRESSION*******\")\n",
        "  print(\"Press 1 to perform SLR using Manual Calculation of a random dataset\")\n",
        "  print(\"Press 2 to perform SLR using Manual Calculation of a Kaggle dataset\")\n",
        "  print(\"Press 3 to perform SLR using Inbuilt Python Function of a random dataset\")\n",
        "  print(\"Press 4 to perform SLR using Inbuilt Python Function of a Kaggle dataset\")\n",
        "  val = int(input(\"Enter the value to perform corresponding function: \"))\n",
        "  object.choose(val)"
      ],
      "metadata": {
        "colab": {
          "base_uri": "https://localhost:8080/"
        },
        "id": "Q8kSqUEAbFmg",
        "outputId": "de92ebe1-6a8e-48c2-8f5a-66f42467dbdc"
      },
      "execution_count": 32,
      "outputs": [
        {
          "output_type": "stream",
          "name": "stdout",
          "text": [
            "*******SIMPLE LINEAR REGRESSION*******\n",
            "Press 1 to perform SLR using Manual Calculation of a random dataset\n",
            "Press 2 to perform SLR using Manual Calculation of a Kaggle dataset\n",
            "Press 3 to perform SLR using Inbuilt Python Function of a random dataset\n",
            "Press 4 to perform SLR using Inbuilt Python Function of a Kaggle dataset\n",
            "Enter the value to perform corresponding function: 1\n",
            "Estimated coefficients; \n",
            " b_0 = -7.244444444444444 \n",
            " b_1 = 3.311111111111111\n",
            "Coefficient of Determination: 0.952538038613988\n"
          ]
        }
      ]
    },
    {
      "cell_type": "markdown",
      "source": [
        "# Variance Inflation Factor"
      ],
      "metadata": {
        "id": "CEwbfhzZHFca"
      }
    },
    {
      "cell_type": "code",
      "source": [
        "class VarianceInflationFactor:\n",
        "  def __init__(self) -> None:\n",
        "    self.data = pd.read_csv(\"Car_sales.csv\").dropna()\n",
        "\n",
        "  def _compute_vif1(self, x1, x2):\n",
        "    corr_matrix = np.corrcoef(x1, x2)\n",
        "    corr = corr_matrix[0,1]\n",
        "    r_sq = corr**2\n",
        "    vif = 1 / (1 - r_sq)\n",
        "    print(f\"VIF-> {vif}\")\n",
        "    # print(r_sq)\n",
        "\n",
        "  def _compute_vif2(self, considered_features):\n",
        "    X = self.data[considered_features]\n",
        "    X['intercept'] = 1\n",
        "    vif = pd.DataFrame()\n",
        "    vif[\"Variable\"] = X.columns\n",
        "    vif[\"VIF\"] = [variance_inflation_factor(X.values, i) for i in range(X.shape[1])]\n",
        "    vif = vif[vif['Variable'] != 'intercept']\n",
        "    print(vif)\n",
        "\n",
        "  def VIF_1(self):\n",
        "    considered_features = ['Fuel_efficiency', 'Power_perf_factor', 'Engine_size', 'Horsepower', 'Fuel_capacity', 'Curb_weight']\n",
        "    for i in considered_features:\n",
        "      for j in considered_features:\n",
        "        if(i != j):\n",
        "          print(f\"{i} and {j}\")\n",
        "          self._compute_vif1(self.data[i], self.data[j])\n",
        "\n",
        "  def VIF_2(self):\n",
        "    plt.figure(figsize=(10, 7))\n",
        "    mask = np.triu(np.ones_like(self.data.corr(), dtype=bool))\n",
        "    sns.heatmap(self.data.corr(), annot=True, mask=mask, vmin=-1, vmax=1)\n",
        "    plt.title(\"Correlation Coefficient of Predictors\")\n",
        "    plt.show()\n",
        "    considered_features = ['Fuel_efficiency', 'Power_perf_factor', 'Engine_size', 'Horsepower', 'Fuel_capacity', 'Curb_weight']\n",
        "    self._compute_vif2(considered_features)\n",
        "\n",
        "  def choose(self, val):\n",
        "    default = \"Incorrect Input\"\n",
        "    return getattr(self, 'VIF_' + str(val), lambda: default)()\n"
      ],
      "metadata": {
        "id": "BLr_2tX-6dc3"
      },
      "execution_count": null,
      "outputs": []
    },
    {
      "cell_type": "code",
      "source": [
        "def VarianceInflationFactor():\n",
        "  object = VarianceInflationFactor()\n",
        "  print(\"*******VARIANCE INFLATION FACTOR*******\")\n",
        "  print(\"Press 1 to perform VIF using Manual Calculation\")\n",
        "  print(\"Press 2 to perform VIF using Inbuilt Python Function\")\n",
        "  val = int(input(\"Enter the value to perform corresponding function: \"))\n",
        "  object.choose(val)"
      ],
      "metadata": {
        "colab": {
          "base_uri": "https://localhost:8080/",
          "height": 812
        },
        "id": "izY2l3J_HMLi",
        "outputId": "da736259-6572-4da5-9cd5-02f708c1893a"
      },
      "execution_count": 83,
      "outputs": [
        {
          "name": "stdout",
          "output_type": "stream",
          "text": [
            "*******VARIANCE INFLATION FACTOR*******\n",
            "Press 1 to perform VIF using Manual Calculation\n",
            "Press 2 to perform VIF using Inbuilt Python Function\n",
            "Enter the value to perform corresponding function: 2\n"
          ]
        },
        {
          "output_type": "display_data",
          "data": {
            "text/plain": [
              "<Figure size 720x504 with 2 Axes>"
            ],
            "image/png": "[encoded data removed]"
          },
          "metadata": {
            "needs_background": "light"
          }
        },
        {
          "output_type": "stream",
          "name": "stdout",
          "text": [
            "            Variable         VIF\n",
            "0    Fuel_efficiency    4.004185\n",
            "1  Power_perf_factor   97.177100\n",
            "2        Engine_size    6.721330\n",
            "3         Horsepower  111.471081\n",
            "4      Fuel_capacity    4.282718\n",
            "5        Curb_weight    5.353387\n"
          ]
        },
        {
          "output_type": "stream",
          "name": "stderr",
          "text": [
            "/usr/local/lib/python3.7/dist-packages/ipykernel_launcher.py:25: SettingWithCopyWarning: \n",
            "A value is trying to be set on a copy of a slice from a DataFrame.\n",
            "Try using .loc[row_indexer,col_indexer] = value instead\n",
            "\n",
            "See the caveats in the documentation: https://pandas.pydata.org/pandas-docs/stable/user_guide/indexing.html#returning-a-view-versus-a-copy\n"
          ]
        }
      ]
    },
    {
      "cell_type": "markdown",
      "source": [
        "# Multiple Linear Regression"
      ],
      "metadata": {
        "id": "0lfHxubMHPxw"
      }
    },
    {
      "cell_type": "markdown",
      "source": [
        "[Deriving Normal Equation in Multivariate Linear Regression](https://eli.thegreenplace.net/2014/derivation-of-the-normal-equation-for-linear-regression)"
      ],
      "metadata": {
        "id": "LZYJxyZmMeZn"
      }
    },
    {
      "cell_type": "markdown",
      "source": [
        "<img src=\"https://miro.medium.com/max/280/1*xMoP9IyWFSJn2D0JfU-ZQw.png\">"
      ],
      "metadata": {
        "id": "ue6uyJdSMxBz"
      }
    },
    {
      "cell_type": "code",
      "source": [
        "class MultipleLinearRegression:\n",
        "  def __init__(self) -> None:\n",
        "    self.data = pd.read_csv('Real estate.csv')\n",
        "    self.coefficients = []\n",
        "      \n",
        "  def MLR_1(self):\n",
        "    X = self.data.iloc[:, 2:-1] # columns with index 2 to 6 as features in X\n",
        "    Y = self.data.iloc[:, -1] # the last column i.e. 'price per unit area' as target\n",
        "\n",
        "    one = np.ones((len(X),1))\n",
        "    X = np.append(one, X, axis=1) # adding ones to X\n",
        "    Y = np.array(Y).reshape((len(Y),1)) # reshape Y to a column vector\n",
        "    self.coefficients = np.linalg.inv(X.transpose().dot(X)).dot(X.transpose()).dot(Y)\n",
        "    print(f\"Coefficients: {self.coefficients}\")\n",
        "\n",
        "  def MLR_2(self):\n",
        "    X = self.data.iloc[:, 2:-1] \n",
        "    Y = self.data.iloc[:, -1] \n",
        "    mlr = LinearRegression()\n",
        "    mlr.fit(X,Y)\n",
        "    print(f\"Coefficients: {list(zip(X, mlr.coef_))}\")\n",
        "\n",
        "  def choose(self, val):\n",
        "    default = \"Incorrect Input\"\n",
        "    return getattr(self, 'MLR_' + str(val), lambda: default)()"
      ],
      "metadata": {
        "id": "gK9WOZaIRhc2"
      },
      "execution_count": null,
      "outputs": []
    },
    {
      "cell_type": "code",
      "source": [
        "def MultipleLinearRegression():\n",
        "  object = MultipleLinearRegression()\n",
        "  print(\"*******MULTIPLE LINEAR REGRESSION*******\")\n",
        "  print(\"Press 1 to perform MLR using Normal Equation Method\")\n",
        "  print(\"Press 2 to perform MLR using Inbuilt Python Function\")\n",
        "  val = int(input(\"Enter the value to perform corresponding function: \"))\n",
        "  object.choose(val)"
      ],
      "metadata": {
        "id": "6ZPc3yPiHVhu"
      },
      "execution_count": 34,
      "outputs": []
    },
    {
      "cell_type": "markdown",
      "source": [
        "# Confusion Matrix"
      ],
      "metadata": {
        "id": "2MlDoIXuHYBG"
      }
    },
    {
      "cell_type": "code",
      "source": [
        "class ConfusionMat:\n",
        "  def __init__(self) -> None:\n",
        "    self.params = []\n",
        "    self.actual = [1, 3, 3, 2, 5, 5, 3, 2, 1, 4, 3, 2, 1, 1, 2]\n",
        "    self.predicted = [1, 2, 3, 4, 2, 3, 3, 2, 1, 2, 3, 1, 5, 1, 1]\n",
        "    self.confusion_matrix = self.comp_confmat()\n",
        "\n",
        "  def totalSum(self):\n",
        "    '''to calculate total sum of elements in a confusion matrix'''\n",
        "    tot_sum = 0\n",
        "    for i in range(0, len(self.confusion_matrix)):\n",
        "        for j in range(0, len(self.confusion_matrix)): \n",
        "            tot_sum += self.confusion_matrix[i][j]\n",
        "    return tot_sum\n",
        "\n",
        "  def param(self, mat, n):\n",
        "    '''to calculate the values of parameters in each class'''\n",
        "    col_sum = [sum([row[i] for row in mat]) for i in range(0,len(mat[0]))]\n",
        "    row_sum = [sum(mat[i]) for i in range(len(mat))]\n",
        "    tp = mat[n][n]\n",
        "    fp = row_sum[n] - tp\n",
        "    fn = col_sum[n] - tp\n",
        "    tn = self.totalSum() - fp - fn - tp\n",
        "    accuracy = (tp + tn) / (tp + tn + fp + fn)\n",
        "    self.params.append(accuracy)\n",
        "    precision = tp / (tp + fp)\n",
        "    self.params.append(precision)\n",
        "    recall = tp / (tp + fn)\n",
        "    self.params.append(recall)\n",
        "    f1_score = (2 * precision * recall) / (precision + recall)\n",
        "    self.params.append(f1_score)\n",
        "    return self.params\n",
        "\n",
        "  def display_val(self):\n",
        "    '''to display the required values'''\n",
        "    for i in range(len(self.confusion_matrix)):\n",
        "        print(f\"For the class {i+1}, the values are as follows: \")\n",
        "        print(f\"Accuracy: {self.param(self.confusion_matrix,i)[0]}\")\n",
        "        print(f\"Precision: {self.param(self.confusion_matrix,i)[1]}\")\n",
        "        print(f\"Recall: {self.param(self.confusion_matrix,i)[2]}\")\n",
        "        print(f\"F1-Score: {self.param(self.confusion_matrix,i)[3]}\")\n",
        "        print(\"*********************\")\n",
        "\n",
        "  def comp_confmat(self):\n",
        "    '''to find the confusion matrix using actual and predicted values'''\n",
        "    # extract the different classes\n",
        "    classes = np.unique(self.actual)\n",
        "    # initialize the confusion matrix\n",
        "    confmat = np.zeros((len(classes), len(classes)))\n",
        "    # loop across the different combinations of actual / predicted classes\n",
        "    for i in range(len(classes)):\n",
        "        for j in range(len(classes)):\n",
        "            # count the number of instances in each combination of actual / predicted classes\n",
        "            confmat[i, j] = np.sum((self.actual == classes[i]) & (self.predicted == classes[j]))\n",
        "    return confmat"
      ],
      "metadata": {
        "id": "zh8_FVzb8PJ4"
      },
      "execution_count": null,
      "outputs": []
    },
    {
      "cell_type": "code",
      "source": [
        "def ConfusionMatrix():\n",
        "  conMat = ConfusionMat()\n",
        "  conMat.display_val()"
      ],
      "metadata": {
        "id": "17iyyW2gHdEz"
      },
      "execution_count": 35,
      "outputs": []
    },
    {
      "cell_type": "markdown",
      "source": [
        "# Noise Matrix"
      ],
      "metadata": {
        "id": "OzM_JXUhHhtE"
      }
    },
    {
      "cell_type": "code",
      "source": [
        "class NoiseMatrix:\n",
        "  def __init__(self):\n",
        "    self.image = mpimg.imread('gray_img.jpg')\n",
        "    self.new_data = []\n",
        "\n",
        "  def rgb2grayImage(self):\n",
        "    R, G, B = self.image[:,:,0], self.image[:,:,1], self.image[:,:,2]\n",
        "    self.imgGray = 0.2989*R + 0.5870*G + 0.1140*B\n",
        "    # plt.imshow(self.imgGray, cmap='gray')\n",
        "    # plt.show()\n",
        "    # return self.imgGray\n",
        "\n",
        "  def addNoise(self):\n",
        "    var = int(input(\"Enter the variance (for Normal Distribution) you want to add: \"))\n",
        "    self.rgb2grayImage()\n",
        "    noise = np.random.normal(0, var, self.imgGray.shape)\n",
        "    self.new_data = noise + self.imgGray\n",
        "\n",
        "  def displayImage(self, data):\n",
        "    plt.imshow(data, cmap='gray')"
      ],
      "metadata": {
        "id": "UpH0ED5J5C8V"
      },
      "execution_count": null,
      "outputs": []
    },
    {
      "cell_type": "code",
      "source": [
        "def NoiseMatrix():\n",
        "  object = NoiseMatrix()\n",
        "  object.addNoise()\n",
        "  object.displayImage(object.new_data)"
      ],
      "metadata": {
        "id": "6xNEFl3iHlbu"
      },
      "execution_count": 36,
      "outputs": []
    },
    {
      "cell_type": "markdown",
      "source": [
        "# Simple Linear Regression using Gradient Descent"
      ],
      "metadata": {
        "id": "DaGTQagsHpN3"
      }
    },
    {
      "cell_type": "code",
      "source": [
        "class GradientDescentSLR:\n",
        "  def __init__(self, learning_rate=0.01, iter=10):\n",
        "    self.learning_rate = learning_rate\n",
        "    self.iter = iter\n",
        "\n",
        "  def fit(self, X, y):\n",
        "    b_0, b_1 = 0, 0\n",
        "    for i in range(iter):\n",
        "      temp_0 = b_0 - (self.learning_rate/len(X)) * sum(b_0 + b_1*X - y)\n",
        "      temp_1 = b_1 - (self.learning_rate/len(X)) * sum((b_0 + b_1*X - y) * X)\n",
        "      b_0 = temp_0\n",
        "      b_1 = temp_1\n",
        "      print(f\"For iteration {i+1}: b_0 = {temp_0*1000} and b_1 = {temp_1*1000}\")"
      ],
      "metadata": {
        "id": "Nt8O-R9-QFwG"
      },
      "execution_count": null,
      "outputs": []
    },
    {
      "cell_type": "code",
      "source": [
        "def SLRusingGradientDescent():\n",
        "  object = GradientDescentSLR()\n",
        "  X = np.array([2, 3, 5, 13, 8, 16, 11, 1, 9])\n",
        "  Y = np.array([15, 28, 42, 64, 50, 90, 58, 8, 54])\n",
        "  object.fit(X,Y)"
      ],
      "metadata": {
        "id": "Rhhzo9hCHsTb"
      },
      "execution_count": 37,
      "outputs": []
    },
    {
      "cell_type": "markdown",
      "source": [
        "# Multiple Linear Regression using Gradient Descent"
      ],
      "metadata": {
        "id": "4LzbyeqCHvS8"
      }
    },
    {
      "cell_type": "code",
      "source": [
        "class GradientDescentMLR:\n",
        "  def __init__(self, learning_rate=0.01, iters=2) -> None:\n",
        "    self.learning_rate = learning_rate\n",
        "    self.iters = iters\n",
        "\n",
        "  def fit(self, X1, X2, Y):\n",
        "    ones = np.ones(len(X1))\n",
        "    features = np.c_[ones, X1, X2]\n",
        "    known_labels = np.array(Y).reshape((len(Y),1))\n",
        "    weights = np.zeros(features.shape[1])\n",
        "    temp = weights\n",
        "    for i in range(self.iters):\n",
        "      temp[0] = weights[0] - (self.learning_rate/len(X1)) * np.sum((features @ weights) - known_labels.transpose())\n",
        "      for j in range(1, len(weights)):\n",
        "        temp[j] = weights[j] - (self.learning_rate/len(X1)) * ((features @ weights) - known_labels.transpose()) @ features.transpose()[j]\n",
        "      for k in range(len(weights)):\n",
        "        weights[k] = temp[k]\n",
        "        print(f\"For iteration {i+1}: \\nb_{k} = {weights[k]}\\n\")\n"
      ],
      "metadata": {
        "id": "wkw5UlpEGPtL"
      },
      "execution_count": null,
      "outputs": []
    },
    {
      "cell_type": "code",
      "source": [
        "def MLRusingGradientDescent():\n",
        "  object = GradientDescentMLR()\n",
        "  X1 = np.array([2.75, 2.5, 2.25, 2, 2, 2, 1.75, 1.75])\n",
        "  X2 = np.array([5.3, 5.3, 5.5, 5.7, 5.9, 6, 5.9, 6.1])\n",
        "  y = np.array([1464, 1394, 1159, 1130, 1075, 1047, 965, 719])\n",
        "  object.fit(X1,X2,y)"
      ],
      "metadata": {
        "id": "Up4PEo9XH0dH"
      },
      "execution_count": 38,
      "outputs": []
    },
    {
      "cell_type": "markdown",
      "source": [
        "# Principal Component Analysis"
      ],
      "metadata": {
        "id": "08Kfka2zH3ff"
      }
    },
    {
      "cell_type": "code",
      "source": [
        "class PrincipalComponentAnalysis:\n",
        "  def __init__(self, data) -> None:\n",
        "    self.data = data\n",
        "\n",
        "  def standardize_data(self):\n",
        "    standardized_data = (self.data - self.data.mean(axis=0)) / self.data.std(axis=0)\n",
        "    return standardized_data\n",
        "\n",
        "  def fit(self):\n",
        "    covariance_matrix = np.cov(self.standardize_data(), ddof=0, rowvar=False)\n",
        "\n",
        "    eigenvalues, eigenvectors = np.linalg.eig(covariance_matrix)\n",
        "\n",
        "    order_of_importance = np.argsort(eigenvalues)[::-1]\n",
        "\n",
        "    sorted_eigenvalues = eigenvalues[order_of_importance]\n",
        "    sorted_eigenvectors = eigenvectors[:,order_of_importance]\n",
        "\n",
        "    explained_variance = sorted_eigenvalues / np.sum(sorted_eigenvalues)\n",
        "\n",
        "    k = 2 # No. of Principal Components\n",
        "    reduced_data = np.matmul(self.standardize_data(), sorted_eigenvectors[:,:k])\n",
        "    print(reduced_data)"
      ],
      "metadata": {
        "id": "jTduGdzbTo70"
      },
      "execution_count": null,
      "outputs": []
    },
    {
      "cell_type": "code",
      "source": [
        "def PrincipalComponentAnalysis():\n",
        "  data = data = np.array([\n",
        "      [   1,   2,  -1,   4,  10],\n",
        "      [   3,  -3,  -3,  12, -15],\n",
        "      [   2,   1,  -2,   4,   5],\n",
        "      [   5,   1,  -5,  10,   5],\n",
        "      [   2,   3,  -3,   5,  12],\n",
        "      [   4,   0,  -3,  16,   2],\n",
        "  ])\n",
        "  object = PrincipalComponentAnalysis(data)\n",
        "  object.fit()"
      ],
      "metadata": {
        "id": "knY5oXwXH7A-"
      },
      "execution_count": 39,
      "outputs": []
    },
    {
      "cell_type": "markdown",
      "source": [
        "# Main Program"
      ],
      "metadata": {
        "id": "rzAJ9gBdFmub"
      }
    },
    {
      "cell_type": "code",
      "source": [
        "def choice(i):\n",
        "  switcher = {\n",
        "      1: SimpleLinearRegression,\n",
        "      2: VarianceInflationFactor,\n",
        "      3: MultipleLinearRegression,\n",
        "      4: ConfusionMatrix,\n",
        "      5: NoiseMatrix,\n",
        "      6: SLRusingGradientDescent,\n",
        "      7: MLRusingGradientDescent,\n",
        "      8: PrincipalComponentAnalysis,\n",
        "      9: exit\n",
        "  }\n",
        "  switcher[i]()"
      ],
      "metadata": {
        "id": "PwLZ0GaTGJS3"
      },
      "execution_count": 40,
      "outputs": []
    },
    {
      "cell_type": "code",
      "source": [
        "print(\"*******MAIN PROGRAM*******\")\n",
        "print(\"Press 1 to perform Simple Linear Regression.\")\n",
        "print(\"Press 2 to find the Variance Inflation Factor.\")\n",
        "print(\"Press 3 to perform Multiple Linear Regression.\")\n",
        "print(\"Press 4 to perform Confusion Matrix Operation.\")\n",
        "print(\"Press 5 to perform Noise Matrix operation.\")\n",
        "print(\"Press 6 to perform Gradient Descent program.\")\n",
        "print(\"Press 7 to perform MLR using Gradient Descent.\")\n",
        "print(\"Press 8 to perform PCA - Principal Component Analysis\")\n",
        "print(\"Press 9 to exit the program.\")\n",
        "i = int(input(\"Enter the value to perform corresponding functions: \"))\n",
        "choice(i)"
      ],
      "metadata": {
        "colab": {
          "base_uri": "https://localhost:8080/"
        },
        "id": "AhvBC5ppFk8n",
        "outputId": "d9b5f895-dac1-4486-bbf5-43b02964243e"
      },
      "execution_count": 41,
      "outputs": [
        {
          "name": "stdout",
          "output_type": "stream",
          "text": [
            "*******MAIN PROGRAM*******\n",
            "Press 1 to perform Simple Linear Regression.\n",
            "Press 2 to find the Variance Inflation Factor.\n",
            "Press 3 to perform Multiple Linear Regression.\n",
            "Press 4 to perform Confusion Matrix Operation.\n",
            "Press 5 to perform Noise Matrix operation.\n",
            "Press 6 to perform Gradient Descent program.\n",
            "Press 7 to perform MLR using Gradient Descent.\n",
            "Press 8 to perform PCA - Principal Component Analysis\n",
            "Press 9 to exit the program.\n",
            "Enter the value to perform corresponding functions: 2\n"
          ]
        }
      ]
    }
  ]
}